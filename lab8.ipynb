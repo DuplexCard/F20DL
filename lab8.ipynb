{
 "cells": [
  {
   "cell_type": "markdown",
   "metadata": {},
   "source": [
    "# Imports "
   ]
  },
  {
   "cell_type": "code",
   "execution_count": 1,
   "metadata": {},
   "outputs": [],
   "source": [
    "# conda env create -f env.yaml \n",
    "\n",
    "import numpy as np\n",
    "import pandas as pd\n",
    "import matplotlib.pyplot as plt\n",
    "import seaborn as sns\n",
    "import sklearn\n",
    "import os"
   ]
  },
  {
   "cell_type": "markdown",
   "metadata": {},
   "source": [
    "# Data setup"
   ]
  },
  {
   "cell_type": "code",
   "execution_count": 2,
   "metadata": {},
   "outputs": [
    {
     "data": {
      "text/html": [
       "<div>\n",
       "<style scoped>\n",
       "    .dataframe tbody tr th:only-of-type {\n",
       "        vertical-align: middle;\n",
       "    }\n",
       "\n",
       "    .dataframe tbody tr th {\n",
       "        vertical-align: top;\n",
       "    }\n",
       "\n",
       "    .dataframe thead th {\n",
       "        text-align: right;\n",
       "    }\n",
       "</style>\n",
       "<table border=\"1\" class=\"dataframe\">\n",
       "  <thead>\n",
       "    <tr style=\"text-align: right;\">\n",
       "      <th></th>\n",
       "      <th>failures</th>\n",
       "      <th>higher</th>\n",
       "      <th>studytime</th>\n",
       "      <th>Medu</th>\n",
       "      <th>Fedu</th>\n",
       "      <th>Dalc</th>\n",
       "      <th>age</th>\n",
       "      <th>reason_reputation</th>\n",
       "      <th>school</th>\n",
       "      <th>address</th>\n",
       "      <th>internet</th>\n",
       "      <th>G3</th>\n",
       "    </tr>\n",
       "  </thead>\n",
       "  <tbody>\n",
       "    <tr>\n",
       "      <th>0</th>\n",
       "      <td>0</td>\n",
       "      <td>1</td>\n",
       "      <td>2</td>\n",
       "      <td>4</td>\n",
       "      <td>4</td>\n",
       "      <td>1</td>\n",
       "      <td>18</td>\n",
       "      <td>0</td>\n",
       "      <td>0</td>\n",
       "      <td>0</td>\n",
       "      <td>0</td>\n",
       "      <td>6</td>\n",
       "    </tr>\n",
       "    <tr>\n",
       "      <th>1</th>\n",
       "      <td>0</td>\n",
       "      <td>1</td>\n",
       "      <td>2</td>\n",
       "      <td>1</td>\n",
       "      <td>1</td>\n",
       "      <td>1</td>\n",
       "      <td>17</td>\n",
       "      <td>0</td>\n",
       "      <td>0</td>\n",
       "      <td>0</td>\n",
       "      <td>1</td>\n",
       "      <td>6</td>\n",
       "    </tr>\n",
       "    <tr>\n",
       "      <th>2</th>\n",
       "      <td>3</td>\n",
       "      <td>1</td>\n",
       "      <td>2</td>\n",
       "      <td>1</td>\n",
       "      <td>1</td>\n",
       "      <td>2</td>\n",
       "      <td>15</td>\n",
       "      <td>0</td>\n",
       "      <td>0</td>\n",
       "      <td>0</td>\n",
       "      <td>1</td>\n",
       "      <td>10</td>\n",
       "    </tr>\n",
       "    <tr>\n",
       "      <th>3</th>\n",
       "      <td>0</td>\n",
       "      <td>1</td>\n",
       "      <td>3</td>\n",
       "      <td>4</td>\n",
       "      <td>2</td>\n",
       "      <td>1</td>\n",
       "      <td>15</td>\n",
       "      <td>0</td>\n",
       "      <td>0</td>\n",
       "      <td>0</td>\n",
       "      <td>1</td>\n",
       "      <td>15</td>\n",
       "    </tr>\n",
       "    <tr>\n",
       "      <th>4</th>\n",
       "      <td>0</td>\n",
       "      <td>1</td>\n",
       "      <td>2</td>\n",
       "      <td>3</td>\n",
       "      <td>3</td>\n",
       "      <td>1</td>\n",
       "      <td>16</td>\n",
       "      <td>0</td>\n",
       "      <td>0</td>\n",
       "      <td>0</td>\n",
       "      <td>0</td>\n",
       "      <td>10</td>\n",
       "    </tr>\n",
       "    <tr>\n",
       "      <th>...</th>\n",
       "      <td>...</td>\n",
       "      <td>...</td>\n",
       "      <td>...</td>\n",
       "      <td>...</td>\n",
       "      <td>...</td>\n",
       "      <td>...</td>\n",
       "      <td>...</td>\n",
       "      <td>...</td>\n",
       "      <td>...</td>\n",
       "      <td>...</td>\n",
       "      <td>...</td>\n",
       "      <td>...</td>\n",
       "    </tr>\n",
       "    <tr>\n",
       "      <th>1039</th>\n",
       "      <td>1</td>\n",
       "      <td>1</td>\n",
       "      <td>3</td>\n",
       "      <td>2</td>\n",
       "      <td>3</td>\n",
       "      <td>1</td>\n",
       "      <td>19</td>\n",
       "      <td>0</td>\n",
       "      <td>1</td>\n",
       "      <td>1</td>\n",
       "      <td>1</td>\n",
       "      <td>10</td>\n",
       "    </tr>\n",
       "    <tr>\n",
       "      <th>1040</th>\n",
       "      <td>0</td>\n",
       "      <td>1</td>\n",
       "      <td>2</td>\n",
       "      <td>3</td>\n",
       "      <td>1</td>\n",
       "      <td>1</td>\n",
       "      <td>18</td>\n",
       "      <td>0</td>\n",
       "      <td>1</td>\n",
       "      <td>0</td>\n",
       "      <td>1</td>\n",
       "      <td>16</td>\n",
       "    </tr>\n",
       "    <tr>\n",
       "      <th>1041</th>\n",
       "      <td>0</td>\n",
       "      <td>1</td>\n",
       "      <td>2</td>\n",
       "      <td>1</td>\n",
       "      <td>1</td>\n",
       "      <td>1</td>\n",
       "      <td>18</td>\n",
       "      <td>0</td>\n",
       "      <td>1</td>\n",
       "      <td>0</td>\n",
       "      <td>0</td>\n",
       "      <td>9</td>\n",
       "    </tr>\n",
       "    <tr>\n",
       "      <th>1042</th>\n",
       "      <td>0</td>\n",
       "      <td>1</td>\n",
       "      <td>1</td>\n",
       "      <td>3</td>\n",
       "      <td>1</td>\n",
       "      <td>3</td>\n",
       "      <td>17</td>\n",
       "      <td>0</td>\n",
       "      <td>1</td>\n",
       "      <td>0</td>\n",
       "      <td>1</td>\n",
       "      <td>10</td>\n",
       "    </tr>\n",
       "    <tr>\n",
       "      <th>1043</th>\n",
       "      <td>0</td>\n",
       "      <td>1</td>\n",
       "      <td>1</td>\n",
       "      <td>3</td>\n",
       "      <td>2</td>\n",
       "      <td>3</td>\n",
       "      <td>18</td>\n",
       "      <td>0</td>\n",
       "      <td>1</td>\n",
       "      <td>1</td>\n",
       "      <td>1</td>\n",
       "      <td>11</td>\n",
       "    </tr>\n",
       "  </tbody>\n",
       "</table>\n",
       "<p>1044 rows × 12 columns</p>\n",
       "</div>"
      ],
      "text/plain": [
       "      failures  higher  studytime  Medu  Fedu  Dalc  age  reason_reputation  \\\n",
       "0            0       1          2     4     4     1   18                  0   \n",
       "1            0       1          2     1     1     1   17                  0   \n",
       "2            3       1          2     1     1     2   15                  0   \n",
       "3            0       1          3     4     2     1   15                  0   \n",
       "4            0       1          2     3     3     1   16                  0   \n",
       "...        ...     ...        ...   ...   ...   ...  ...                ...   \n",
       "1039         1       1          3     2     3     1   19                  0   \n",
       "1040         0       1          2     3     1     1   18                  0   \n",
       "1041         0       1          2     1     1     1   18                  0   \n",
       "1042         0       1          1     3     1     3   17                  0   \n",
       "1043         0       1          1     3     2     3   18                  0   \n",
       "\n",
       "      school  address  internet  G3  \n",
       "0          0        0         0   6  \n",
       "1          0        0         1   6  \n",
       "2          0        0         1  10  \n",
       "3          0        0         1  15  \n",
       "4          0        0         0  10  \n",
       "...      ...      ...       ...  ..  \n",
       "1039       1        1         1  10  \n",
       "1040       1        0         1  16  \n",
       "1041       1        0         0   9  \n",
       "1042       1        0         1  10  \n",
       "1043       1        1         1  11  \n",
       "\n",
       "[1044 rows x 12 columns]"
      ]
     },
     "execution_count": 2,
     "metadata": {},
     "output_type": "execute_result"
    }
   ],
   "source": [
    "np.random.seed(0)\n",
    "os.environ[\"OMP_NUM_THREADS\"] = \"5\"\n",
    "\n",
    "df3 = pd.read_csv(\"Data/data3.csv\")\n",
    "df3"
   ]
  },
  {
   "cell_type": "code",
   "execution_count": 3,
   "metadata": {},
   "outputs": [],
   "source": [
    "df3_copy = df3.copy()\n",
    "y = df3_copy.pop(\"G3\")\n",
    "y_binary = [0 if y_i > np.mean(y) else 1 for y_i in y] #making the target class into binary (over/under average score)\n",
    "X = df3_copy"
   ]
  },
  {
   "cell_type": "code",
   "execution_count": 4,
   "metadata": {},
   "outputs": [
    {
     "data": {
      "text/plain": [
       "(835, 11)"
      ]
     },
     "execution_count": 4,
     "metadata": {},
     "output_type": "execute_result"
    }
   ],
   "source": [
    "from sklearn.model_selection import train_test_split\n",
    "X_train, X_test, y_train, y_test = train_test_split(X, y_binary, test_size=0.2, random_state=42)\n",
    "X_train.shape"
   ]
  },
  {
   "cell_type": "markdown",
   "metadata": {},
   "source": [
    "Note: No need to scale, trees are not affected by different scales."
   ]
  },
  {
   "cell_type": "markdown",
   "metadata": {},
   "source": [
    "# Tree 1"
   ]
  },
  {
   "cell_type": "code",
   "execution_count": 8,
   "metadata": {},
   "outputs": [],
   "source": [
    "from sklearn.model_selection import RandomizedSearchCV, cross_val_score\n",
    "from scipy.stats import randint\n",
    "from sklearn import tree"
   ]
  },
  {
   "cell_type": "code",
   "execution_count": 9,
   "metadata": {},
   "outputs": [
    {
     "data": {
      "text/plain": [
       "RandomizedSearchCV(cv=10, estimator=DecisionTreeClassifier(),\n",
       "                   param_distributions={'criterion': ['gini', 'entropy'],\n",
       "                                        'max_depth': [3, None],\n",
       "                                        'max_features': <scipy.stats._distn_infrastructure.rv_frozen object at 0x0000017FC18B3430>,\n",
       "                                        'min_samples_leaf': <scipy.stats._distn_infrastructure.rv_frozen object at 0x0000017FC18B35B0>},\n",
       "                   random_state=10)"
      ]
     },
     "execution_count": 9,
     "metadata": {},
     "output_type": "execute_result"
    }
   ],
   "source": [
    "parameters = {\"max_depth\": [3, None],\n",
    "              \"max_features\": randint(1, X.shape[1]),\n",
    "              \"min_samples_leaf\": randint(1, 9),\n",
    "              \"criterion\": [\"gini\", \"entropy\"]}\n",
    "\n",
    "clf = tree.DecisionTreeClassifier()\n",
    "tree_cv = RandomizedSearchCV(clf, parameters, cv=10, random_state = 10)\n",
    "tree_cv.fit(X_train,y_train)"
   ]
  },
  {
   "cell_type": "code",
   "execution_count": null,
   "metadata": {},
   "outputs": [
    {
     "data": {
      "text/plain": [
       "[Text(0.6949633379888268, 0.9615384615384616, 'X[3] <= 3.5\\nentropy = 1.0\\nsamples = 835\\nvalue = [413, 422]'),\n",
       " Text(0.510038407821229, 0.8846153846153846, 'X[0] <= 0.5\\nentropy = 0.984\\nsamples = 586\\nvalue = [250, 336]'),\n",
       " Text(0.360858938547486, 0.8076923076923077, 'X[8] <= 0.5\\nentropy = 0.999\\nsamples = 466\\nvalue = [240, 226]'),\n",
       " Text(0.21613128491620112, 0.7307692307692307, 'X[9] <= 0.5\\nentropy = 0.989\\nsamples = 339\\nvalue = [190, 149]'),\n",
       " Text(0.0914804469273743, 0.6538461538461539, 'X[10] <= 0.5\\nentropy = 0.974\\nsamples = 269\\nvalue = [160, 109]'),\n",
       " Text(0.0223463687150838, 0.5769230769230769, 'X[6] <= 15.5\\nentropy = 0.974\\nsamples = 37\\nvalue = [15, 22]'),\n",
       " Text(0.0111731843575419, 0.5, 'entropy = 0.0\\nsamples = 7\\nvalue = [0, 7]'),\n",
       " Text(0.0335195530726257, 0.5, 'X[5] <= 1.5\\nentropy = 1.0\\nsamples = 30\\nvalue = [15, 15]'),\n",
       " Text(0.0223463687150838, 0.4230769230769231, 'X[3] <= 2.5\\nentropy = 0.988\\nsamples = 23\\nvalue = [10, 13]'),\n",
       " Text(0.0111731843575419, 0.34615384615384615, 'entropy = 0.918\\nsamples = 15\\nvalue = [5, 10]'),\n",
       " Text(0.0335195530726257, 0.34615384615384615, 'entropy = 0.954\\nsamples = 8\\nvalue = [5, 3]'),\n",
       " Text(0.0446927374301676, 0.4230769230769231, 'entropy = 0.863\\nsamples = 7\\nvalue = [5, 2]'),\n",
       " Text(0.16061452513966482, 0.5769230769230769, 'X[6] <= 16.5\\nentropy = 0.954\\nsamples = 232\\nvalue = [145, 87]'),\n",
       " Text(0.0893854748603352, 0.5, 'X[3] <= 1.5\\nentropy = 0.983\\nsamples = 111\\nvalue = [64, 47]'),\n",
       " Text(0.0670391061452514, 0.4230769230769231, 'X[6] <= 15.5\\nentropy = 0.988\\nsamples = 23\\nvalue = [10, 13]'),\n",
       " Text(0.055865921787709494, 0.34615384615384615, 'entropy = 0.991\\nsamples = 9\\nvalue = [5, 4]'),\n",
       " Text(0.0782122905027933, 0.34615384615384615, 'entropy = 0.94\\nsamples = 14\\nvalue = [5, 9]'),\n",
       " Text(0.11173184357541899, 0.4230769230769231, 'X[5] <= 1.5\\nentropy = 0.962\\nsamples = 88\\nvalue = [54, 34]'),\n",
       " Text(0.1005586592178771, 0.34615384615384615, 'X[4] <= 2.5\\nentropy = 0.946\\nsamples = 77\\nvalue = [49, 28]'),\n",
       " Text(0.0782122905027933, 0.2692307692307692, 'X[3] <= 2.5\\nentropy = 0.971\\nsamples = 40\\nvalue = [24, 16]'),\n",
       " Text(0.0670391061452514, 0.19230769230769232, 'X[7] <= 0.5\\nentropy = 0.938\\nsamples = 31\\nvalue = [20, 11]'),\n",
       " Text(0.055865921787709494, 0.11538461538461539, 'X[6] <= 15.5\\nentropy = 0.976\\nsamples = 22\\nvalue = [13, 9]'),\n",
       " Text(0.0446927374301676, 0.038461538461538464, 'entropy = 0.994\\nsamples = 11\\nvalue = [6, 5]'),\n",
       " Text(0.0670391061452514, 0.038461538461538464, 'entropy = 0.946\\nsamples = 11\\nvalue = [7, 4]'),\n",
       " Text(0.0782122905027933, 0.11538461538461539, 'entropy = 0.764\\nsamples = 9\\nvalue = [7, 2]'),\n",
       " Text(0.0893854748603352, 0.19230769230769232, 'entropy = 0.991\\nsamples = 9\\nvalue = [4, 5]'),\n",
       " Text(0.12290502793296089, 0.2692307692307692, 'X[3] <= 2.5\\nentropy = 0.909\\nsamples = 37\\nvalue = [25, 12]'),\n",
       " Text(0.11173184357541899, 0.19230769230769232, 'entropy = 0.684\\nsamples = 11\\nvalue = [9, 2]'),\n",
       " Text(0.1340782122905028, 0.19230769230769232, 'X[4] <= 3.5\\nentropy = 0.961\\nsamples = 26\\nvalue = [16, 10]'),\n",
       " Text(0.12290502793296089, 0.11538461538461539, 'entropy = 0.89\\nsamples = 13\\nvalue = [9, 4]'),\n",
       " Text(0.1452513966480447, 0.11538461538461539, 'entropy = 0.996\\nsamples = 13\\nvalue = [7, 6]'),\n",
       " Text(0.12290502793296089, 0.34615384615384615, 'entropy = 0.994\\nsamples = 11\\nvalue = [5, 6]'),\n",
       " Text(0.23184357541899442, 0.5, 'X[1] <= 0.5\\nentropy = 0.916\\nsamples = 121\\nvalue = [81, 40]'),\n",
       " Text(0.2206703910614525, 0.4230769230769231, 'entropy = 0.811\\nsamples = 8\\nvalue = [2, 6]'),\n",
       " Text(0.2430167597765363, 0.4230769230769231, 'X[4] <= 1.5\\nentropy = 0.882\\nsamples = 113\\nvalue = [79, 34]'),\n",
       " Text(0.2011173184357542, 0.34615384615384615, 'X[7] <= 0.5\\nentropy = 0.977\\nsamples = 34\\nvalue = [20, 14]'),\n",
       " Text(0.18994413407821228, 0.2692307692307692, 'X[5] <= 1.5\\nentropy = 0.999\\nsamples = 25\\nvalue = [13, 12]'),\n",
       " Text(0.1787709497206704, 0.19230769230769232, 'X[6] <= 17.5\\nentropy = 0.998\\nsamples = 17\\nvalue = [8, 9]'),\n",
       " Text(0.16759776536312848, 0.11538461538461539, 'entropy = 0.811\\nsamples = 8\\nvalue = [2, 6]'),\n",
       " Text(0.18994413407821228, 0.11538461538461539, 'entropy = 0.918\\nsamples = 9\\nvalue = [6, 3]'),\n",
       " Text(0.2011173184357542, 0.19230769230769232, 'entropy = 0.954\\nsamples = 8\\nvalue = [5, 3]'),\n",
       " Text(0.2122905027932961, 0.2692307692307692, 'entropy = 0.764\\nsamples = 9\\nvalue = [7, 2]'),\n",
       " Text(0.2849162011173184, 0.34615384615384615, 'X[5] <= 1.5\\nentropy = 0.816\\nsamples = 79\\nvalue = [59, 20]'),\n",
       " Text(0.24581005586592178, 0.2692307692307692, 'X[6] <= 17.5\\nentropy = 0.744\\nsamples = 52\\nvalue = [41, 11]'),\n",
       " Text(0.22346368715083798, 0.19230769230769232, 'X[4] <= 2.5\\nentropy = 0.845\\nsamples = 33\\nvalue = [24, 9]'),\n",
       " Text(0.2122905027932961, 0.11538461538461539, 'entropy = 0.696\\nsamples = 16\\nvalue = [13, 3]'),\n",
       " Text(0.2346368715083799, 0.11538461538461539, 'X[3] <= 2.5\\nentropy = 0.937\\nsamples = 17\\nvalue = [11, 6]'),\n",
       " Text(0.22346368715083798, 0.038461538461538464, 'entropy = 0.811\\nsamples = 8\\nvalue = [6, 2]'),\n",
       " Text(0.24581005586592178, 0.038461538461538464, 'entropy = 0.991\\nsamples = 9\\nvalue = [5, 4]'),\n",
       " Text(0.2681564245810056, 0.19230769230769232, 'X[4] <= 2.5\\nentropy = 0.485\\nsamples = 19\\nvalue = [17, 2]'),\n",
       " Text(0.2569832402234637, 0.11538461538461539, 'entropy = 0.764\\nsamples = 9\\nvalue = [7, 2]'),\n",
       " Text(0.27932960893854747, 0.11538461538461539, 'entropy = 0.0\\nsamples = 10\\nvalue = [10, 0]'),\n",
       " Text(0.3240223463687151, 0.2692307692307692, 'X[5] <= 2.5\\nentropy = 0.918\\nsamples = 27\\nvalue = [18, 9]'),\n",
       " Text(0.3128491620111732, 0.19230769230769232, 'X[2] <= 2.5\\nentropy = 0.991\\nsamples = 18\\nvalue = [10, 8]'),\n",
       " Text(0.3016759776536313, 0.11538461538461539, 'entropy = 0.994\\nsamples = 11\\nvalue = [5, 6]'),\n",
       " Text(0.3240223463687151, 0.11538461538461539, 'entropy = 0.863\\nsamples = 7\\nvalue = [5, 2]'),\n",
       " Text(0.33519553072625696, 0.19230769230769232, 'entropy = 0.503\\nsamples = 9\\nvalue = [8, 1]'),\n",
       " Text(0.3407821229050279, 0.6538461538461539, 'X[2] <= 2.5\\nentropy = 0.985\\nsamples = 70\\nvalue = [30, 40]'),\n",
       " Text(0.31843575418994413, 0.5769230769230769, 'X[6] <= 15.5\\nentropy = 0.894\\nsamples = 45\\nvalue = [14, 31]'),\n",
       " Text(0.30726256983240224, 0.5, 'entropy = 0.469\\nsamples = 10\\nvalue = [1, 9]'),\n",
       " Text(0.329608938547486, 0.5, 'X[3] <= 2.5\\nentropy = 0.952\\nsamples = 35\\nvalue = [13, 22]'),\n",
       " Text(0.31843575418994413, 0.4230769230769231, 'X[7] <= 0.5\\nentropy = 0.994\\nsamples = 22\\nvalue = [10, 12]'),\n",
       " Text(0.30726256983240224, 0.34615384615384615, 'entropy = 0.996\\nsamples = 13\\nvalue = [7, 6]'),\n",
       " Text(0.329608938547486, 0.34615384615384615, 'entropy = 0.918\\nsamples = 9\\nvalue = [3, 6]'),\n",
       " Text(0.3407821229050279, 0.4230769230769231, 'entropy = 0.779\\nsamples = 13\\nvalue = [3, 10]'),\n",
       " Text(0.36312849162011174, 0.5769230769230769, 'X[4] <= 1.5\\nentropy = 0.943\\nsamples = 25\\nvalue = [16, 9]'),\n",
       " Text(0.35195530726256985, 0.5, 'entropy = 0.0\\nsamples = 8\\nvalue = [8, 0]'),\n",
       " Text(0.3743016759776536, 0.5, 'X[6] <= 16.5\\nentropy = 0.998\\nsamples = 17\\nvalue = [8, 9]'),\n",
       " Text(0.36312849162011174, 0.4230769230769231, 'entropy = 0.863\\nsamples = 7\\nvalue = [2, 5]'),\n",
       " Text(0.3854748603351955, 0.4230769230769231, 'entropy = 0.971\\nsamples = 10\\nvalue = [6, 4]'),\n",
       " Text(0.505586592178771, 0.7307692307692307, 'X[2] <= 1.5\\nentropy = 0.967\\nsamples = 127\\nvalue = [50, 77]'),\n",
       " Text(0.45251396648044695, 0.6538461538461539, 'X[6] <= 16.5\\nentropy = 0.877\\nsamples = 54\\nvalue = [16, 38]'),\n",
       " Text(0.4301675977653631, 0.5769230769230769, 'X[5] <= 1.5\\nentropy = 0.98\\nsamples = 24\\nvalue = [10, 14]'),\n",
       " Text(0.41899441340782123, 0.5, 'X[9] <= 0.5\\nentropy = 0.997\\nsamples = 15\\nvalue = [8, 7]'),\n",
       " Text(0.40782122905027934, 0.4230769230769231, 'entropy = 0.985\\nsamples = 7\\nvalue = [3, 4]'),\n",
       " Text(0.4301675977653631, 0.4230769230769231, 'entropy = 0.954\\nsamples = 8\\nvalue = [5, 3]'),\n",
       " Text(0.441340782122905, 0.5, 'entropy = 0.764\\nsamples = 9\\nvalue = [2, 7]'),\n",
       " Text(0.4748603351955307, 0.5769230769230769, 'X[5] <= 1.5\\nentropy = 0.722\\nsamples = 30\\nvalue = [6, 24]'),\n",
       " Text(0.46368715083798884, 0.5, 'X[3] <= 1.5\\nentropy = 0.544\\nsamples = 16\\nvalue = [2, 14]'),\n",
       " Text(0.45251396648044695, 0.4230769230769231, 'entropy = 0.503\\nsamples = 9\\nvalue = [1, 8]'),\n",
       " Text(0.4748603351955307, 0.4230769230769231, 'entropy = 0.592\\nsamples = 7\\nvalue = [1, 6]'),\n",
       " Text(0.4860335195530726, 0.5, 'entropy = 0.863\\nsamples = 14\\nvalue = [4, 10]'),\n",
       " Text(0.5586592178770949, 0.6538461538461539, 'X[6] <= 17.5\\nentropy = 0.997\\nsamples = 73\\nvalue = [34, 39]'),\n",
       " Text(0.5307262569832403, 0.5769230769230769, 'X[4] <= 1.5\\nentropy = 0.973\\nsamples = 52\\nvalue = [21, 31]'),\n",
       " Text(0.5083798882681564, 0.5, 'X[3] <= 1.5\\nentropy = 0.863\\nsamples = 21\\nvalue = [6, 15]'),\n",
       " Text(0.4972067039106145, 0.4230769230769231, 'entropy = 0.94\\nsamples = 14\\nvalue = [5, 9]'),\n",
       " Text(0.5195530726256983, 0.4230769230769231, 'entropy = 0.592\\nsamples = 7\\nvalue = [1, 6]'),\n",
       " Text(0.553072625698324, 0.5, 'X[10] <= 0.5\\nentropy = 0.999\\nsamples = 31\\nvalue = [15, 16]'),\n",
       " Text(0.5418994413407822, 0.4230769230769231, 'X[9] <= 0.5\\nentropy = 0.991\\nsamples = 18\\nvalue = [8, 10]'),\n",
       " Text(0.5307262569832403, 0.34615384615384615, 'entropy = 1.0\\nsamples = 8\\nvalue = [4, 4]'),\n",
       " Text(0.553072625698324, 0.34615384615384615, 'entropy = 0.971\\nsamples = 10\\nvalue = [4, 6]'),\n",
       " Text(0.5642458100558659, 0.4230769230769231, 'entropy = 0.996\\nsamples = 13\\nvalue = [7, 6]'),\n",
       " Text(0.5865921787709497, 0.5769230769230769, 'X[10] <= 0.5\\nentropy = 0.959\\nsamples = 21\\nvalue = [13, 8]'),\n",
       " Text(0.5754189944134078, 0.5, 'entropy = 0.918\\nsamples = 9\\nvalue = [3, 6]'),\n",
       " Text(0.5977653631284916, 0.5, 'entropy = 0.65\\nsamples = 12\\nvalue = [10, 2]'),\n",
       " Text(0.659217877094972, 0.8076923076923077, 'X[6] <= 16.5\\nentropy = 0.414\\nsamples = 120\\nvalue = [10, 110]'),\n",
       " Text(0.6312849162011173, 0.7307692307692307, 'X[0] <= 1.5\\nentropy = 0.709\\nsamples = 31\\nvalue = [6, 25]'),\n",
       " Text(0.6201117318435754, 0.6538461538461539, 'X[10] <= 0.5\\nentropy = 0.9\\nsamples = 19\\nvalue = [6, 13]'),\n",
       " Text(0.6089385474860335, 0.5769230769230769, 'entropy = 1.0\\nsamples = 8\\nvalue = [4, 4]'),\n",
       " Text(0.6312849162011173, 0.5769230769230769, 'entropy = 0.684\\nsamples = 11\\nvalue = [2, 9]'),\n",
       " Text(0.6424581005586593, 0.6538461538461539, 'entropy = 0.0\\nsamples = 12\\nvalue = [0, 12]'),\n",
       " Text(0.6871508379888268, 0.7307692307692307, 'X[3] <= 2.5\\nentropy = 0.265\\nsamples = 89\\nvalue = [4, 85]'),\n",
       " Text(0.664804469273743, 0.6538461538461539, 'X[8] <= 0.5\\nentropy = 0.119\\nsamples = 62\\nvalue = [1, 61]'),\n",
       " Text(0.6536312849162011, 0.5769230769230769, 'entropy = 0.0\\nsamples = 32\\nvalue = [0, 32]'),\n",
       " Text(0.6759776536312849, 0.5769230769230769, 'X[10] <= 0.5\\nentropy = 0.211\\nsamples = 30\\nvalue = [1, 29]'),\n",
       " Text(0.664804469273743, 0.5, 'entropy = 0.414\\nsamples = 12\\nvalue = [1, 11]'),\n",
       " Text(0.6871508379888268, 0.5, 'entropy = 0.0\\nsamples = 18\\nvalue = [0, 18]'),\n",
       " Text(0.7094972067039106, 0.6538461538461539, 'X[1] <= 0.5\\nentropy = 0.503\\nsamples = 27\\nvalue = [3, 24]'),\n",
       " Text(0.6983240223463687, 0.5769230769230769, 'entropy = 0.0\\nsamples = 7\\nvalue = [0, 7]'),\n",
       " Text(0.7206703910614525, 0.5769230769230769, 'X[5] <= 1.5\\nentropy = 0.61\\nsamples = 20\\nvalue = [3, 17]'),\n",
       " Text(0.7094972067039106, 0.5, 'entropy = 0.811\\nsamples = 8\\nvalue = [2, 6]'),\n",
       " Text(0.7318435754189944, 0.5, 'entropy = 0.414\\nsamples = 12\\nvalue = [1, 11]'),\n",
       " Text(0.8798882681564246, 0.8846153846153846, 'X[5] <= 1.5\\nentropy = 0.93\\nsamples = 249\\nvalue = [163, 86]'),\n",
       " Text(0.7988826815642458, 0.8076923076923077, 'X[2] <= 3.5\\nentropy = 0.82\\nsamples = 172\\nvalue = [128, 44]'),\n",
       " Text(0.7877094972067039, 0.7307692307692307, 'X[10] <= 0.5\\nentropy = 0.799\\nsamples = 161\\nvalue = [122, 39]'),\n",
       " Text(0.776536312849162, 0.6538461538461539, 'entropy = 0.971\\nsamples = 15\\nvalue = [9, 6]'),\n",
       " Text(0.7988826815642458, 0.6538461538461539, 'X[4] <= 3.5\\nentropy = 0.771\\nsamples = 146\\nvalue = [113, 33]'),\n",
       " Text(0.7653631284916201, 0.5769230769230769, 'X[8] <= 0.5\\nentropy = 0.855\\nsamples = 75\\nvalue = [54, 21]'),\n",
       " Text(0.7541899441340782, 0.5, 'X[6] <= 17.5\\nentropy = 0.779\\nsamples = 65\\nvalue = [50, 15]'),\n",
       " Text(0.7430167597765364, 0.4230769230769231, 'X[4] <= 2.5\\nentropy = 0.592\\nsamples = 49\\nvalue = [42, 7]'),\n",
       " Text(0.7318435754189944, 0.34615384615384615, 'entropy = 0.353\\nsamples = 15\\nvalue = [14, 1]'),\n",
       " Text(0.7541899441340782, 0.34615384615384615, 'X[7] <= 0.5\\nentropy = 0.672\\nsamples = 34\\nvalue = [28, 6]'),\n",
       " Text(0.7430167597765364, 0.2692307692307692, 'entropy = 0.881\\nsamples = 20\\nvalue = [14, 6]'),\n",
       " Text(0.7653631284916201, 0.2692307692307692, 'entropy = 0.0\\nsamples = 14\\nvalue = [14, 0]'),\n",
       " Text(0.7653631284916201, 0.4230769230769231, 'entropy = 1.0\\nsamples = 16\\nvalue = [8, 8]'),\n",
       " Text(0.776536312849162, 0.5, 'entropy = 0.971\\nsamples = 10\\nvalue = [4, 6]'),\n",
       " Text(0.8324022346368715, 0.5769230769230769, 'X[6] <= 16.5\\nentropy = 0.655\\nsamples = 71\\nvalue = [59, 12]'),\n",
       " Text(0.7988826815642458, 0.5, 'X[6] <= 15.5\\nentropy = 0.485\\nsamples = 38\\nvalue = [34, 4]'),\n",
       " Text(0.7877094972067039, 0.4230769230769231, 'entropy = 0.544\\nsamples = 16\\nvalue = [14, 2]'),\n",
       " Text(0.8100558659217877, 0.4230769230769231, 'X[2] <= 2.5\\nentropy = 0.439\\nsamples = 22\\nvalue = [20, 2]'),\n",
       " Text(0.7988826815642458, 0.34615384615384615, 'entropy = 0.619\\nsamples = 13\\nvalue = [11, 2]'),\n",
       " Text(0.8212290502793296, 0.34615384615384615, 'entropy = 0.0\\nsamples = 9\\nvalue = [9, 0]'),\n",
       " Text(0.8659217877094972, 0.5, 'X[8] <= 0.5\\nentropy = 0.799\\nsamples = 33\\nvalue = [25, 8]'),\n",
       " Text(0.8547486033519553, 0.4230769230769231, 'X[7] <= 0.5\\nentropy = 0.934\\nsamples = 20\\nvalue = [13, 7]'),\n",
       " Text(0.8435754189944135, 0.34615384615384615, 'entropy = 0.684\\nsamples = 11\\nvalue = [9, 2]'),\n",
       " Text(0.8659217877094972, 0.34615384615384615, 'entropy = 0.991\\nsamples = 9\\nvalue = [4, 5]'),\n",
       " Text(0.8770949720670391, 0.4230769230769231, 'entropy = 0.391\\nsamples = 13\\nvalue = [12, 1]'),\n",
       " Text(0.8100558659217877, 0.7307692307692307, 'entropy = 0.994\\nsamples = 11\\nvalue = [6, 5]'),\n",
       " Text(0.9608938547486033, 0.8076923076923077, 'X[0] <= 0.5\\nentropy = 0.994\\nsamples = 77\\nvalue = [35, 42]'),\n",
       " Text(0.9497206703910615, 0.7307692307692307, 'X[8] <= 0.5\\nentropy = 1.0\\nsamples = 69\\nvalue = [34, 35]'),\n",
       " Text(0.9217877094972067, 0.6538461538461539, 'X[4] <= 3.5\\nentropy = 1.0\\nsamples = 53\\nvalue = [27, 26]'),\n",
       " Text(0.8994413407821229, 0.5769230769230769, 'X[6] <= 15.5\\nentropy = 0.852\\nsamples = 18\\nvalue = [5, 13]'),\n",
       " Text(0.888268156424581, 0.5, 'entropy = 0.991\\nsamples = 9\\nvalue = [4, 5]'),\n",
       " Text(0.9106145251396648, 0.5, 'entropy = 0.503\\nsamples = 9\\nvalue = [1, 8]'),\n",
       " Text(0.9441340782122905, 0.5769230769230769, 'X[6] <= 16.5\\nentropy = 0.952\\nsamples = 35\\nvalue = [22, 13]'),\n",
       " Text(0.9329608938547486, 0.5, 'X[6] <= 15.5\\nentropy = 0.993\\nsamples = 20\\nvalue = [11, 9]'),\n",
       " Text(0.9217877094972067, 0.4230769230769231, 'entropy = 0.954\\nsamples = 8\\nvalue = [5, 3]'),\n",
       " Text(0.9441340782122905, 0.4230769230769231, 'entropy = 1.0\\nsamples = 12\\nvalue = [6, 6]'),\n",
       " Text(0.9553072625698324, 0.5, 'entropy = 0.837\\nsamples = 15\\nvalue = [11, 4]'),\n",
       " Text(0.9776536312849162, 0.6538461538461539, 'X[5] <= 2.5\\nentropy = 0.989\\nsamples = 16\\nvalue = [7, 9]'),\n",
       " Text(0.9664804469273743, 0.5769230769230769, 'entropy = 1.0\\nsamples = 8\\nvalue = [4, 4]'),\n",
       " Text(0.9888268156424581, 0.5769230769230769, 'entropy = 0.954\\nsamples = 8\\nvalue = [3, 5]'),\n",
       " Text(0.9720670391061452, 0.7307692307692307, 'entropy = 0.544\\nsamples = 8\\nvalue = [1, 7]')]"
      ]
     },
     "execution_count": 17,
     "metadata": {},
     "output_type": "execute_result"
    }
   ],
   "source": [
    "#takes a few seconds and hard to see but just for sanity check\n",
    "tree.plot_tree(tree_cv.best_estimator_)"
   ]
  },
  {
   "cell_type": "markdown",
   "metadata": {},
   "source": [
    "# Evaluation"
   ]
  },
  {
   "cell_type": "markdown",
   "metadata": {},
   "source": [
    "#### Training results"
   ]
  },
  {
   "cell_type": "code",
   "execution_count": 10,
   "metadata": {},
   "outputs": [
    {
     "name": "stdout",
     "output_type": "stream",
     "text": [
      "Best Decision Tree Parameters: {'criterion': 'entropy', 'max_depth': None, 'max_features': 7, 'min_samples_leaf': 7}\n",
      "Best score is 0.6685312679288582\n"
     ]
    }
   ],
   "source": [
    "print(\"Best Decision Tree Parameters: {}\".format(tree_cv.best_params_))\n",
    "print(\"Best score is {}\".format(tree_cv.best_score_))"
   ]
  },
  {
   "cell_type": "code",
   "execution_count": 11,
   "metadata": {},
   "outputs": [
    {
     "data": {
      "text/plain": [
       "{'mean_fit_time': array([0.00249982, 0.00238814, 0.00190055, 0.00200238, 0.00200028,\n",
       "        0.00189998, 0.0017972 , 0.00179915, 0.00210016, 0.00229933]),\n",
       " 'std_fit_time': array([7.97743642e-04, 4.77971780e-04, 3.00289601e-04, 4.52696240e-04,\n",
       "        1.64422413e-06, 2.99303176e-04, 3.98775526e-04, 3.99616392e-04,\n",
       "        2.99796191e-04, 4.57773239e-04]),\n",
       " 'mean_score_time': array([0.00180745, 0.00160854, 0.00139949, 0.00139771, 0.00139973,\n",
       "        0.00129991, 0.00120261, 0.00140369, 0.00129974, 0.00129771]),\n",
       " 'std_score_time': array([0.00060872, 0.00049671, 0.00049019, 0.00048697, 0.00048927,\n",
       "        0.0004577 , 0.00039895, 0.00048776, 0.00045807, 0.00045369]),\n",
       " 'param_criterion': masked_array(data=['entropy', 'gini', 'gini', 'gini', 'gini', 'gini',\n",
       "                    'entropy', 'gini', 'gini', 'entropy'],\n",
       "              mask=[False, False, False, False, False, False, False, False,\n",
       "                    False, False],\n",
       "        fill_value='?',\n",
       "             dtype=object),\n",
       " 'param_max_depth': masked_array(data=[None, None, None, None, 3, 3, 3, 3, None, None],\n",
       "              mask=[False, False, False, False, False, False, False, False,\n",
       "                    False, False],\n",
       "        fill_value='?',\n",
       "             dtype=object),\n",
       " 'param_max_features': masked_array(data=[5, 10, 2, 1, 5, 7, 2, 2, 6, 7],\n",
       "              mask=[False, False, False, False, False, False, False, False,\n",
       "                    False, False],\n",
       "        fill_value='?',\n",
       "             dtype=object),\n",
       " 'param_min_samples_leaf': masked_array(data=[8, 6, 3, 3, 4, 1, 1, 4, 6, 7],\n",
       "              mask=[False, False, False, False, False, False, False, False,\n",
       "                    False, False],\n",
       "        fill_value='?',\n",
       "             dtype=object),\n",
       " 'params': [{'criterion': 'entropy',\n",
       "   'max_depth': None,\n",
       "   'max_features': 5,\n",
       "   'min_samples_leaf': 8},\n",
       "  {'criterion': 'gini',\n",
       "   'max_depth': None,\n",
       "   'max_features': 10,\n",
       "   'min_samples_leaf': 6},\n",
       "  {'criterion': 'gini',\n",
       "   'max_depth': None,\n",
       "   'max_features': 2,\n",
       "   'min_samples_leaf': 3},\n",
       "  {'criterion': 'gini',\n",
       "   'max_depth': None,\n",
       "   'max_features': 1,\n",
       "   'min_samples_leaf': 3},\n",
       "  {'criterion': 'gini',\n",
       "   'max_depth': 3,\n",
       "   'max_features': 5,\n",
       "   'min_samples_leaf': 4},\n",
       "  {'criterion': 'gini',\n",
       "   'max_depth': 3,\n",
       "   'max_features': 7,\n",
       "   'min_samples_leaf': 1},\n",
       "  {'criterion': 'entropy',\n",
       "   'max_depth': 3,\n",
       "   'max_features': 2,\n",
       "   'min_samples_leaf': 1},\n",
       "  {'criterion': 'gini',\n",
       "   'max_depth': 3,\n",
       "   'max_features': 2,\n",
       "   'min_samples_leaf': 4},\n",
       "  {'criterion': 'gini',\n",
       "   'max_depth': None,\n",
       "   'max_features': 6,\n",
       "   'min_samples_leaf': 6},\n",
       "  {'criterion': 'entropy',\n",
       "   'max_depth': None,\n",
       "   'max_features': 7,\n",
       "   'min_samples_leaf': 7}],\n",
       " 'split0_test_score': array([0.67857143, 0.5952381 , 0.61904762, 0.5952381 , 0.67857143,\n",
       "        0.63095238, 0.63095238, 0.51190476, 0.58333333, 0.58333333]),\n",
       " 'split1_test_score': array([0.70238095, 0.69047619, 0.61904762, 0.75      , 0.64285714,\n",
       "        0.70238095, 0.67857143, 0.70238095, 0.70238095, 0.66666667]),\n",
       " 'split2_test_score': array([0.55952381, 0.53571429, 0.55952381, 0.58333333, 0.60714286,\n",
       "        0.61904762, 0.51190476, 0.58333333, 0.60714286, 0.57142857]),\n",
       " 'split3_test_score': array([0.66666667, 0.71428571, 0.64285714, 0.70238095, 0.63095238,\n",
       "        0.64285714, 0.63095238, 0.75      , 0.6547619 , 0.69047619]),\n",
       " 'split4_test_score': array([0.53571429, 0.55952381, 0.61904762, 0.57142857, 0.57142857,\n",
       "        0.54761905, 0.6547619 , 0.57142857, 0.54761905, 0.60714286]),\n",
       " 'split5_test_score': array([0.65060241, 0.69879518, 0.6626506 , 0.60240964, 0.61445783,\n",
       "        0.60240964, 0.57831325, 0.54216867, 0.69879518, 0.65060241]),\n",
       " 'split6_test_score': array([0.69879518, 0.62650602, 0.69879518, 0.68674699, 0.56626506,\n",
       "        0.60240964, 0.61445783, 0.57831325, 0.65060241, 0.72289157]),\n",
       " 'split7_test_score': array([0.65060241, 0.6746988 , 0.63855422, 0.63855422, 0.65060241,\n",
       "        0.65060241, 0.53012048, 0.62650602, 0.63855422, 0.71084337]),\n",
       " 'split8_test_score': array([0.62650602, 0.68674699, 0.57831325, 0.6626506 , 0.62650602,\n",
       "        0.6746988 , 0.65060241, 0.57831325, 0.65060241, 0.71084337]),\n",
       " 'split9_test_score': array([0.75903614, 0.74698795, 0.71084337, 0.6746988 , 0.73493976,\n",
       "        0.73493976, 0.73493976, 0.6626506 , 0.72289157, 0.77108434]),\n",
       " 'mean_test_score': array([0.65283993, 0.6528973 , 0.63486804, 0.64674412, 0.63237235,\n",
       "        0.64079174, 0.62155766, 0.61069994, 0.64566839, 0.66853127]),\n",
       " 'std_test_score': array([0.06310858, 0.06650792, 0.04509354, 0.05547143, 0.04709023,\n",
       "        0.05109249, 0.06366609, 0.07043054, 0.05212267, 0.06189948]),\n",
       " 'rank_test_score': array([ 3,  2,  7,  4,  8,  6,  9, 10,  5,  1])}"
      ]
     },
     "execution_count": 11,
     "metadata": {},
     "output_type": "execute_result"
    }
   ],
   "source": [
    "tree_cv.cv_results_"
   ]
  },
  {
   "cell_type": "code",
   "execution_count": 12,
   "metadata": {},
   "outputs": [
    {
     "name": "stdout",
     "output_type": "stream",
     "text": [
      "Mean test scores:  [0.65283993 0.6528973  0.63486804 0.64674412 0.63237235 0.64079174\n",
      " 0.62155766 0.61069994 0.64566839 0.66853127]\n"
     ]
    }
   ],
   "source": [
    "print(f\"Mean test scores: \", tree_cv.cv_results_[\"mean_test_score\"])"
   ]
  },
  {
   "cell_type": "markdown",
   "metadata": {},
   "source": [
    "#### Test set results"
   ]
  },
  {
   "cell_type": "code",
   "execution_count": 13,
   "metadata": {},
   "outputs": [
    {
     "name": "stdout",
     "output_type": "stream",
     "text": [
      "[0.57142857 0.71428571 0.71428571 0.61904762 0.61904762 0.42857143\n",
      " 0.71428571 0.61904762 0.66666667 0.55      ]\n",
      "Mean test accuracy:  0.6216666666666667\n"
     ]
    }
   ],
   "source": [
    "#cross validation\n",
    "\n",
    "CV_test = cross_val_score(tree_cv, X_test, y_test, cv=10)\n",
    "print(CV_test)\n",
    "print(\"Mean test accuracy: \",np.mean(CV_test))"
   ]
  },
  {
   "cell_type": "code",
   "execution_count": 14,
   "metadata": {},
   "outputs": [
    {
     "name": "stdout",
     "output_type": "stream",
     "text": [
      "Training accuracy:  0.7401197604790419\n",
      "Test accuracy:  0.6267942583732058\n"
     ]
    }
   ],
   "source": [
    "#overall test\n",
    "print(\"Training accuracy: \",tree_cv.score(X_train, y_train))\n",
    "print(\"Test accuracy: \", tree_cv.score(X_test, y_test))"
   ]
  },
  {
   "cell_type": "markdown",
   "metadata": {},
   "source": [
    "# Tree 2"
   ]
  },
  {
   "cell_type": "markdown",
   "metadata": {},
   "source": [
    "TODO"
   ]
  },
  {
   "cell_type": "markdown",
   "metadata": {},
   "source": [
    "# Tree 3"
   ]
  },
  {
   "cell_type": "markdown",
   "metadata": {},
   "source": [
    "TODO"
   ]
  },
  {
   "cell_type": "code",
   "execution_count": null,
   "metadata": {},
   "outputs": [],
   "source": []
  }
 ],
 "metadata": {
  "kernelspec": {
   "display_name": "Python 3",
   "language": "python",
   "name": "python3"
  },
  "language_info": {
   "codemirror_mode": {
    "name": "ipython",
    "version": 3
   },
   "file_extension": ".py",
   "mimetype": "text/x-python",
   "name": "python",
   "nbconvert_exporter": "python",
   "pygments_lexer": "ipython3",
   "version": "3.8.5"
  }
 },
 "nbformat": 4,
 "nbformat_minor": 4
}
