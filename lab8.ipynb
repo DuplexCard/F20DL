{
 "cells": [
  {
   "cell_type": "markdown",
   "metadata": {},
   "source": [
    "# Lab 8\n",
    "\n",
    "## TODO:\n",
    "\n",
    "- [x] Split into training and test set (stratified)\n",
    "- [x] Decision tree on dataset\n",
    "- [ ] Add option to run on the smile dataset (optional for more consistent results)\n",
    "- [ ] Make table (plot accuracy vs some hyperparams)\n",
    "  - [ ] 10-fold CV\n",
    "  - [ ] Accuracy\n",
    "  - [ ] TP rate\n",
    "  - [ ] FP rate\n",
    "  - [ ] precision\n",
    "  - [ ] recall\n",
    "  - [ ] F measure\n",
    "  - [ ] ROC area\n",
    "  - [ ] Graph table\n",
    "- [x] Random search hyperparameters\n",
    "- [ ] 3 trees with different train/test sets (optional, exact details unclear)\n",
    "\n",
    "## Notes:\n",
    "- When doing k-fold validation make sure that the folds are stratified"
   ]
  },
  {
   "cell_type": "markdown",
   "metadata": {},
   "source": [
    "## Imports "
   ]
  },
  {
   "cell_type": "code",
   "execution_count": 23,
   "metadata": {},
   "outputs": [],
   "source": [
    "# conda env create -f env.yaml \n",
    "\n",
    "import numpy as np\n",
    "import pandas as pd\n",
    "import matplotlib.pyplot as plt\n",
    "import seaborn as sns\n",
    "import sklearn\n",
    "import os"
   ]
  },
  {
   "cell_type": "markdown",
   "metadata": {},
   "source": [
    "## Data setup"
   ]
  },
  {
   "cell_type": "code",
   "execution_count": 24,
   "metadata": {},
   "outputs": [
    {
     "data": {
      "text/html": [
       "<div>\n",
       "<style scoped>\n",
       "    .dataframe tbody tr th:only-of-type {\n",
       "        vertical-align: middle;\n",
       "    }\n",
       "\n",
       "    .dataframe tbody tr th {\n",
       "        vertical-align: top;\n",
       "    }\n",
       "\n",
       "    .dataframe thead th {\n",
       "        text-align: right;\n",
       "    }\n",
       "</style>\n",
       "<table border=\"1\" class=\"dataframe\">\n",
       "  <thead>\n",
       "    <tr style=\"text-align: right;\">\n",
       "      <th></th>\n",
       "      <th>failures</th>\n",
       "      <th>higher</th>\n",
       "      <th>studytime</th>\n",
       "      <th>Medu</th>\n",
       "      <th>Fedu</th>\n",
       "      <th>Dalc</th>\n",
       "      <th>age</th>\n",
       "      <th>reason_reputation</th>\n",
       "      <th>school</th>\n",
       "      <th>address</th>\n",
       "      <th>internet</th>\n",
       "      <th>G3</th>\n",
       "    </tr>\n",
       "  </thead>\n",
       "  <tbody>\n",
       "    <tr>\n",
       "      <th>0</th>\n",
       "      <td>0</td>\n",
       "      <td>1</td>\n",
       "      <td>2</td>\n",
       "      <td>4</td>\n",
       "      <td>4</td>\n",
       "      <td>1</td>\n",
       "      <td>18</td>\n",
       "      <td>0</td>\n",
       "      <td>0</td>\n",
       "      <td>0</td>\n",
       "      <td>0</td>\n",
       "      <td>6</td>\n",
       "    </tr>\n",
       "    <tr>\n",
       "      <th>1</th>\n",
       "      <td>0</td>\n",
       "      <td>1</td>\n",
       "      <td>2</td>\n",
       "      <td>1</td>\n",
       "      <td>1</td>\n",
       "      <td>1</td>\n",
       "      <td>17</td>\n",
       "      <td>0</td>\n",
       "      <td>0</td>\n",
       "      <td>0</td>\n",
       "      <td>1</td>\n",
       "      <td>6</td>\n",
       "    </tr>\n",
       "    <tr>\n",
       "      <th>2</th>\n",
       "      <td>3</td>\n",
       "      <td>1</td>\n",
       "      <td>2</td>\n",
       "      <td>1</td>\n",
       "      <td>1</td>\n",
       "      <td>2</td>\n",
       "      <td>15</td>\n",
       "      <td>0</td>\n",
       "      <td>0</td>\n",
       "      <td>0</td>\n",
       "      <td>1</td>\n",
       "      <td>10</td>\n",
       "    </tr>\n",
       "    <tr>\n",
       "      <th>3</th>\n",
       "      <td>0</td>\n",
       "      <td>1</td>\n",
       "      <td>3</td>\n",
       "      <td>4</td>\n",
       "      <td>2</td>\n",
       "      <td>1</td>\n",
       "      <td>15</td>\n",
       "      <td>0</td>\n",
       "      <td>0</td>\n",
       "      <td>0</td>\n",
       "      <td>1</td>\n",
       "      <td>15</td>\n",
       "    </tr>\n",
       "    <tr>\n",
       "      <th>4</th>\n",
       "      <td>0</td>\n",
       "      <td>1</td>\n",
       "      <td>2</td>\n",
       "      <td>3</td>\n",
       "      <td>3</td>\n",
       "      <td>1</td>\n",
       "      <td>16</td>\n",
       "      <td>0</td>\n",
       "      <td>0</td>\n",
       "      <td>0</td>\n",
       "      <td>0</td>\n",
       "      <td>10</td>\n",
       "    </tr>\n",
       "    <tr>\n",
       "      <th>...</th>\n",
       "      <td>...</td>\n",
       "      <td>...</td>\n",
       "      <td>...</td>\n",
       "      <td>...</td>\n",
       "      <td>...</td>\n",
       "      <td>...</td>\n",
       "      <td>...</td>\n",
       "      <td>...</td>\n",
       "      <td>...</td>\n",
       "      <td>...</td>\n",
       "      <td>...</td>\n",
       "      <td>...</td>\n",
       "    </tr>\n",
       "    <tr>\n",
       "      <th>1039</th>\n",
       "      <td>1</td>\n",
       "      <td>1</td>\n",
       "      <td>3</td>\n",
       "      <td>2</td>\n",
       "      <td>3</td>\n",
       "      <td>1</td>\n",
       "      <td>19</td>\n",
       "      <td>0</td>\n",
       "      <td>1</td>\n",
       "      <td>1</td>\n",
       "      <td>1</td>\n",
       "      <td>10</td>\n",
       "    </tr>\n",
       "    <tr>\n",
       "      <th>1040</th>\n",
       "      <td>0</td>\n",
       "      <td>1</td>\n",
       "      <td>2</td>\n",
       "      <td>3</td>\n",
       "      <td>1</td>\n",
       "      <td>1</td>\n",
       "      <td>18</td>\n",
       "      <td>0</td>\n",
       "      <td>1</td>\n",
       "      <td>0</td>\n",
       "      <td>1</td>\n",
       "      <td>16</td>\n",
       "    </tr>\n",
       "    <tr>\n",
       "      <th>1041</th>\n",
       "      <td>0</td>\n",
       "      <td>1</td>\n",
       "      <td>2</td>\n",
       "      <td>1</td>\n",
       "      <td>1</td>\n",
       "      <td>1</td>\n",
       "      <td>18</td>\n",
       "      <td>0</td>\n",
       "      <td>1</td>\n",
       "      <td>0</td>\n",
       "      <td>0</td>\n",
       "      <td>9</td>\n",
       "    </tr>\n",
       "    <tr>\n",
       "      <th>1042</th>\n",
       "      <td>0</td>\n",
       "      <td>1</td>\n",
       "      <td>1</td>\n",
       "      <td>3</td>\n",
       "      <td>1</td>\n",
       "      <td>3</td>\n",
       "      <td>17</td>\n",
       "      <td>0</td>\n",
       "      <td>1</td>\n",
       "      <td>0</td>\n",
       "      <td>1</td>\n",
       "      <td>10</td>\n",
       "    </tr>\n",
       "    <tr>\n",
       "      <th>1043</th>\n",
       "      <td>0</td>\n",
       "      <td>1</td>\n",
       "      <td>1</td>\n",
       "      <td>3</td>\n",
       "      <td>2</td>\n",
       "      <td>3</td>\n",
       "      <td>18</td>\n",
       "      <td>0</td>\n",
       "      <td>1</td>\n",
       "      <td>1</td>\n",
       "      <td>1</td>\n",
       "      <td>11</td>\n",
       "    </tr>\n",
       "  </tbody>\n",
       "</table>\n",
       "<p>1044 rows × 12 columns</p>\n",
       "</div>"
      ],
      "text/plain": [
       "      failures  higher  studytime  Medu  Fedu  Dalc  age  reason_reputation  \\\n",
       "0            0       1          2     4     4     1   18                  0   \n",
       "1            0       1          2     1     1     1   17                  0   \n",
       "2            3       1          2     1     1     2   15                  0   \n",
       "3            0       1          3     4     2     1   15                  0   \n",
       "4            0       1          2     3     3     1   16                  0   \n",
       "...        ...     ...        ...   ...   ...   ...  ...                ...   \n",
       "1039         1       1          3     2     3     1   19                  0   \n",
       "1040         0       1          2     3     1     1   18                  0   \n",
       "1041         0       1          2     1     1     1   18                  0   \n",
       "1042         0       1          1     3     1     3   17                  0   \n",
       "1043         0       1          1     3     2     3   18                  0   \n",
       "\n",
       "      school  address  internet  G3  \n",
       "0          0        0         0   6  \n",
       "1          0        0         1   6  \n",
       "2          0        0         1  10  \n",
       "3          0        0         1  15  \n",
       "4          0        0         0  10  \n",
       "...      ...      ...       ...  ..  \n",
       "1039       1        1         1  10  \n",
       "1040       1        0         1  16  \n",
       "1041       1        0         0   9  \n",
       "1042       1        0         1  10  \n",
       "1043       1        1         1  11  \n",
       "\n",
       "[1044 rows x 12 columns]"
      ]
     },
     "execution_count": 24,
     "metadata": {},
     "output_type": "execute_result"
    }
   ],
   "source": [
    "np.random.seed(0)\n",
    "os.environ[\"OMP_NUM_THREADS\"] = \"5\"\n",
    "\n",
    "df3 = pd.read_csv(\"Data/data3.csv\")\n",
    "df3"
   ]
  },
  {
   "cell_type": "code",
   "execution_count": 25,
   "metadata": {},
   "outputs": [],
   "source": [
    "df3_copy = df3.copy()\n",
    "y = df3_copy.pop(\"G3\")\n",
    "y_binary = [0 if y_i > np.mean(y) else 1 for y_i in y] #making the target class into binary (over/under average score)\n",
    "X = df3_copy\n",
    "# display(X)\n",
    "# print(y_binary)"
   ]
  },
  {
   "cell_type": "code",
   "execution_count": 26,
   "metadata": {},
   "outputs": [
    {
     "data": {
      "text/plain": [
       "(835, 11)"
      ]
     },
     "execution_count": 26,
     "metadata": {},
     "output_type": "execute_result"
    }
   ],
   "source": [
    "from sklearn.model_selection import train_test_split\n",
    "X_train, X_test, y_train, y_test = train_test_split(X, y_binary, test_size=0.2, stratify=y_binary, random_state=42,)\n",
    "X_train.shape"
   ]
  },
  {
   "cell_type": "markdown",
   "metadata": {},
   "source": [
    "Note: No need to scale, trees are not affected by different scales."
   ]
  },
  {
   "cell_type": "markdown",
   "metadata": {},
   "source": [
    "## Tree 1"
   ]
  },
  {
   "cell_type": "code",
   "execution_count": 27,
   "metadata": {},
   "outputs": [],
   "source": [
    "from sklearn.model_selection import RandomizedSearchCV, cross_val_score\n",
    "from scipy.stats import randint\n",
    "from sklearn import tree"
   ]
  },
  {
   "cell_type": "code",
   "execution_count": 28,
   "metadata": {},
   "outputs": [
    {
     "data": {
      "text/html": [
       "<style>#sk-container-id-2 {color: black;background-color: white;}#sk-container-id-2 pre{padding: 0;}#sk-container-id-2 div.sk-toggleable {background-color: white;}#sk-container-id-2 label.sk-toggleable__label {cursor: pointer;display: block;width: 100%;margin-bottom: 0;padding: 0.3em;box-sizing: border-box;text-align: center;}#sk-container-id-2 label.sk-toggleable__label-arrow:before {content: \"▸\";float: left;margin-right: 0.25em;color: #696969;}#sk-container-id-2 label.sk-toggleable__label-arrow:hover:before {color: black;}#sk-container-id-2 div.sk-estimator:hover label.sk-toggleable__label-arrow:before {color: black;}#sk-container-id-2 div.sk-toggleable__content {max-height: 0;max-width: 0;overflow: hidden;text-align: left;background-color: #f0f8ff;}#sk-container-id-2 div.sk-toggleable__content pre {margin: 0.2em;color: black;border-radius: 0.25em;background-color: #f0f8ff;}#sk-container-id-2 input.sk-toggleable__control:checked~div.sk-toggleable__content {max-height: 200px;max-width: 100%;overflow: auto;}#sk-container-id-2 input.sk-toggleable__control:checked~label.sk-toggleable__label-arrow:before {content: \"▾\";}#sk-container-id-2 div.sk-estimator input.sk-toggleable__control:checked~label.sk-toggleable__label {background-color: #d4ebff;}#sk-container-id-2 div.sk-label input.sk-toggleable__control:checked~label.sk-toggleable__label {background-color: #d4ebff;}#sk-container-id-2 input.sk-hidden--visually {border: 0;clip: rect(1px 1px 1px 1px);clip: rect(1px, 1px, 1px, 1px);height: 1px;margin: -1px;overflow: hidden;padding: 0;position: absolute;width: 1px;}#sk-container-id-2 div.sk-estimator {font-family: monospace;background-color: #f0f8ff;border: 1px dotted black;border-radius: 0.25em;box-sizing: border-box;margin-bottom: 0.5em;}#sk-container-id-2 div.sk-estimator:hover {background-color: #d4ebff;}#sk-container-id-2 div.sk-parallel-item::after {content: \"\";width: 100%;border-bottom: 1px solid gray;flex-grow: 1;}#sk-container-id-2 div.sk-label:hover label.sk-toggleable__label {background-color: #d4ebff;}#sk-container-id-2 div.sk-serial::before {content: \"\";position: absolute;border-left: 1px solid gray;box-sizing: border-box;top: 0;bottom: 0;left: 50%;z-index: 0;}#sk-container-id-2 div.sk-serial {display: flex;flex-direction: column;align-items: center;background-color: white;padding-right: 0.2em;padding-left: 0.2em;position: relative;}#sk-container-id-2 div.sk-item {position: relative;z-index: 1;}#sk-container-id-2 div.sk-parallel {display: flex;align-items: stretch;justify-content: center;background-color: white;position: relative;}#sk-container-id-2 div.sk-item::before, #sk-container-id-2 div.sk-parallel-item::before {content: \"\";position: absolute;border-left: 1px solid gray;box-sizing: border-box;top: 0;bottom: 0;left: 50%;z-index: -1;}#sk-container-id-2 div.sk-parallel-item {display: flex;flex-direction: column;z-index: 1;position: relative;background-color: white;}#sk-container-id-2 div.sk-parallel-item:first-child::after {align-self: flex-end;width: 50%;}#sk-container-id-2 div.sk-parallel-item:last-child::after {align-self: flex-start;width: 50%;}#sk-container-id-2 div.sk-parallel-item:only-child::after {width: 0;}#sk-container-id-2 div.sk-dashed-wrapped {border: 1px dashed gray;margin: 0 0.4em 0.5em 0.4em;box-sizing: border-box;padding-bottom: 0.4em;background-color: white;}#sk-container-id-2 div.sk-label label {font-family: monospace;font-weight: bold;display: inline-block;line-height: 1.2em;}#sk-container-id-2 div.sk-label-container {text-align: center;}#sk-container-id-2 div.sk-container {/* jupyter's `normalize.less` sets `[hidden] { display: none; }` but bootstrap.min.css set `[hidden] { display: none !important; }` so we also need the `!important` here to be able to override the default hidden behavior on the sphinx rendered scikit-learn.org. See: https://github.com/scikit-learn/scikit-learn/issues/21755 */display: inline-block !important;position: relative;}#sk-container-id-2 div.sk-text-repr-fallback {display: none;}</style><div id=\"sk-container-id-2\" class=\"sk-top-container\"><div class=\"sk-text-repr-fallback\"><pre>RandomizedSearchCV(cv=10, estimator=DecisionTreeClassifier(),\n",
       "                   param_distributions={&#x27;criterion&#x27;: [&#x27;gini&#x27;, &#x27;entropy&#x27;],\n",
       "                                        &#x27;max_depth&#x27;: [3, None],\n",
       "                                        &#x27;max_features&#x27;: &lt;scipy.stats._distn_infrastructure.rv_discrete_frozen object at 0x0000018F1CAC23D0&gt;,\n",
       "                                        &#x27;min_samples_leaf&#x27;: &lt;scipy.stats._distn_infrastructure.rv_discrete_frozen object at 0x0000018F1CAB3760&gt;},\n",
       "                   random_state=10)</pre><b>In a Jupyter environment, please rerun this cell to show the HTML representation or trust the notebook. <br />On GitHub, the HTML representation is unable to render, please try loading this page with nbviewer.org.</b></div><div class=\"sk-container\" hidden><div class=\"sk-item sk-dashed-wrapped\"><div class=\"sk-label-container\"><div class=\"sk-label sk-toggleable\"><input class=\"sk-toggleable__control sk-hidden--visually\" id=\"sk-estimator-id-4\" type=\"checkbox\" ><label for=\"sk-estimator-id-4\" class=\"sk-toggleable__label sk-toggleable__label-arrow\">RandomizedSearchCV</label><div class=\"sk-toggleable__content\"><pre>RandomizedSearchCV(cv=10, estimator=DecisionTreeClassifier(),\n",
       "                   param_distributions={&#x27;criterion&#x27;: [&#x27;gini&#x27;, &#x27;entropy&#x27;],\n",
       "                                        &#x27;max_depth&#x27;: [3, None],\n",
       "                                        &#x27;max_features&#x27;: &lt;scipy.stats._distn_infrastructure.rv_discrete_frozen object at 0x0000018F1CAC23D0&gt;,\n",
       "                                        &#x27;min_samples_leaf&#x27;: &lt;scipy.stats._distn_infrastructure.rv_discrete_frozen object at 0x0000018F1CAB3760&gt;},\n",
       "                   random_state=10)</pre></div></div></div><div class=\"sk-parallel\"><div class=\"sk-parallel-item\"><div class=\"sk-item\"><div class=\"sk-label-container\"><div class=\"sk-label sk-toggleable\"><input class=\"sk-toggleable__control sk-hidden--visually\" id=\"sk-estimator-id-5\" type=\"checkbox\" ><label for=\"sk-estimator-id-5\" class=\"sk-toggleable__label sk-toggleable__label-arrow\">estimator: DecisionTreeClassifier</label><div class=\"sk-toggleable__content\"><pre>DecisionTreeClassifier()</pre></div></div></div><div class=\"sk-serial\"><div class=\"sk-item\"><div class=\"sk-estimator sk-toggleable\"><input class=\"sk-toggleable__control sk-hidden--visually\" id=\"sk-estimator-id-6\" type=\"checkbox\" ><label for=\"sk-estimator-id-6\" class=\"sk-toggleable__label sk-toggleable__label-arrow\">DecisionTreeClassifier</label><div class=\"sk-toggleable__content\"><pre>DecisionTreeClassifier()</pre></div></div></div></div></div></div></div></div></div></div>"
      ],
      "text/plain": [
       "RandomizedSearchCV(cv=10, estimator=DecisionTreeClassifier(),\n",
       "                   param_distributions={'criterion': ['gini', 'entropy'],\n",
       "                                        'max_depth': [3, None],\n",
       "                                        'max_features': <scipy.stats._distn_infrastructure.rv_discrete_frozen object at 0x0000018F1CAC23D0>,\n",
       "                                        'min_samples_leaf': <scipy.stats._distn_infrastructure.rv_discrete_frozen object at 0x0000018F1CAB3760>},\n",
       "                   random_state=10)"
      ]
     },
     "execution_count": 28,
     "metadata": {},
     "output_type": "execute_result"
    }
   ],
   "source": [
    "parameters = {\"max_depth\": [3, None],\n",
    "              \"max_features\": randint(1, X.shape[1]),\n",
    "              \"min_samples_leaf\": randint(1, 9),\n",
    "              \"criterion\": [\"gini\", \"entropy\"]}\n",
    "\n",
    "clf = tree.DecisionTreeClassifier()\n",
    "tree_cv = RandomizedSearchCV(clf, parameters, cv=10, random_state = 10)\n",
    "tree_cv.fit(X_train,y_train)"
   ]
  },
  {
   "cell_type": "code",
   "execution_count": 29,
   "metadata": {},
   "outputs": [
    {
     "data": {
      "text/plain": [
       "[Text(0.6862571022727273, 0.9615384615384616, 'X[3] <= 3.5\\nentropy = 1.0\\nsamples = 835\\nvalue = [408, 427]'),\n",
       " Text(0.51796875, 0.8846153846153846, 'X[0] <= 0.5\\nentropy = 0.983\\nsamples = 591\\nvalue = [250, 341]'),\n",
       " Text(0.39957386363636366, 0.8076923076923077, 'X[8] <= 0.5\\nentropy = 0.999\\nsamples = 451\\nvalue = [235, 216]'),\n",
       " Text(0.2832386363636364, 0.7307692307692307, 'X[2] <= 2.5\\nentropy = 0.99\\nsamples = 334\\nvalue = [187, 147]'),\n",
       " Text(0.18920454545454546, 0.6538461538461539, 'X[9] <= 0.5\\nentropy = 0.999\\nsamples = 249\\nvalue = [129, 120]'),\n",
       " Text(0.0875, 0.5769230769230769, 'X[3] <= 1.5\\nentropy = 0.992\\nsamples = 206\\nvalue = [114, 92]'),\n",
       " Text(0.01818181818181818, 0.5, 'X[10] <= 0.5\\nentropy = 0.965\\nsamples = 41\\nvalue = [16, 25]'),\n",
       " Text(0.00909090909090909, 0.4230769230769231, 'entropy = 0.811\\nsamples = 8\\nvalue = [2, 6]'),\n",
       " Text(0.02727272727272727, 0.4230769230769231, 'X[6] <= 15.5\\nentropy = 0.983\\nsamples = 33\\nvalue = [14, 19]'),\n",
       " Text(0.01818181818181818, 0.34615384615384615, 'entropy = 0.971\\nsamples = 10\\nvalue = [6, 4]'),\n",
       " Text(0.03636363636363636, 0.34615384615384615, 'X[2] <= 1.5\\nentropy = 0.932\\nsamples = 23\\nvalue = [8, 15]'),\n",
       " Text(0.02727272727272727, 0.2692307692307692, 'entropy = 0.764\\nsamples = 9\\nvalue = [2, 7]'),\n",
       " Text(0.045454545454545456, 0.2692307692307692, 'entropy = 0.985\\nsamples = 14\\nvalue = [6, 8]'),\n",
       " Text(0.15681818181818183, 0.5, 'X[6] <= 16.5\\nentropy = 0.974\\nsamples = 165\\nvalue = [98, 67]'),\n",
       " Text(0.09090909090909091, 0.4230769230769231, 'X[3] <= 2.5\\nentropy = 0.996\\nsamples = 91\\nvalue = [49, 42]'),\n",
       " Text(0.07272727272727272, 0.34615384615384615, 'X[10] <= 0.5\\nentropy = 0.997\\nsamples = 47\\nvalue = [22, 25]'),\n",
       " Text(0.06363636363636363, 0.2692307692307692, 'entropy = 0.764\\nsamples = 9\\nvalue = [2, 7]'),\n",
       " Text(0.08181818181818182, 0.2692307692307692, 'X[5] <= 1.5\\nentropy = 0.998\\nsamples = 38\\nvalue = [20, 18]'),\n",
       " Text(0.07272727272727272, 0.19230769230769232, 'X[6] <= 15.5\\nentropy = 0.987\\nsamples = 30\\nvalue = [17, 13]'),\n",
       " Text(0.06363636363636363, 0.11538461538461539, 'entropy = 1.0\\nsamples = 8\\nvalue = [4, 4]'),\n",
       " Text(0.08181818181818182, 0.11538461538461539, 'X[4] <= 1.5\\nentropy = 0.976\\nsamples = 22\\nvalue = [13, 9]'),\n",
       " Text(0.07272727272727272, 0.038461538461538464, 'entropy = 0.863\\nsamples = 7\\nvalue = [5, 2]'),\n",
       " Text(0.09090909090909091, 0.038461538461538464, 'entropy = 0.997\\nsamples = 15\\nvalue = [8, 7]'),\n",
       " Text(0.09090909090909091, 0.19230769230769232, 'entropy = 0.954\\nsamples = 8\\nvalue = [3, 5]'),\n",
       " Text(0.10909090909090909, 0.34615384615384615, 'X[2] <= 1.5\\nentropy = 0.962\\nsamples = 44\\nvalue = [27, 17]'),\n",
       " Text(0.1, 0.2692307692307692, 'entropy = 0.75\\nsamples = 14\\nvalue = [11, 3]'),\n",
       " Text(0.11818181818181818, 0.2692307692307692, 'X[4] <= 2.5\\nentropy = 0.997\\nsamples = 30\\nvalue = [16, 14]'),\n",
       " Text(0.10909090909090909, 0.19230769230769232, 'entropy = 0.971\\nsamples = 10\\nvalue = [6, 4]'),\n",
       " Text(0.12727272727272726, 0.19230769230769232, 'X[4] <= 3.5\\nentropy = 1.0\\nsamples = 20\\nvalue = [10, 10]'),\n",
       " Text(0.11818181818181818, 0.11538461538461539, 'entropy = 0.996\\nsamples = 13\\nvalue = [6, 7]'),\n",
       " Text(0.13636363636363635, 0.11538461538461539, 'entropy = 0.985\\nsamples = 7\\nvalue = [4, 3]'),\n",
       " Text(0.22272727272727272, 0.4230769230769231, 'X[4] <= 3.5\\nentropy = 0.923\\nsamples = 74\\nvalue = [49, 25]'),\n",
       " Text(0.21363636363636362, 0.34615384615384615, 'X[6] <= 17.5\\nentropy = 0.95\\nsamples = 65\\nvalue = [41, 24]'),\n",
       " Text(0.18181818181818182, 0.2692307692307692, 'X[4] <= 2.5\\nentropy = 0.91\\nsamples = 40\\nvalue = [27, 13]'),\n",
       " Text(0.16363636363636364, 0.19230769230769232, 'X[5] <= 1.5\\nentropy = 0.755\\nsamples = 23\\nvalue = [18, 5]'),\n",
       " Text(0.15454545454545454, 0.11538461538461539, 'entropy = 0.75\\nsamples = 14\\nvalue = [11, 3]'),\n",
       " Text(0.17272727272727273, 0.11538461538461539, 'entropy = 0.764\\nsamples = 9\\nvalue = [7, 2]'),\n",
       " Text(0.2, 0.19230769230769232, 'X[3] <= 2.5\\nentropy = 0.998\\nsamples = 17\\nvalue = [9, 8]'),\n",
       " Text(0.19090909090909092, 0.11538461538461539, 'entropy = 0.863\\nsamples = 7\\nvalue = [5, 2]'),\n",
       " Text(0.20909090909090908, 0.11538461538461539, 'entropy = 0.971\\nsamples = 10\\nvalue = [4, 6]'),\n",
       " Text(0.24545454545454545, 0.2692307692307692, 'X[5] <= 1.5\\nentropy = 0.99\\nsamples = 25\\nvalue = [14, 11]'),\n",
       " Text(0.23636363636363636, 0.19230769230769232, 'X[4] <= 1.5\\nentropy = 0.874\\nsamples = 17\\nvalue = [12, 5]'),\n",
       " Text(0.22727272727272727, 0.11538461538461539, 'entropy = 0.544\\nsamples = 8\\nvalue = [7, 1]'),\n",
       " Text(0.24545454545454545, 0.11538461538461539, 'entropy = 0.991\\nsamples = 9\\nvalue = [5, 4]'),\n",
       " Text(0.2545454545454545, 0.19230769230769232, 'entropy = 0.811\\nsamples = 8\\nvalue = [2, 6]'),\n",
       " Text(0.2318181818181818, 0.34615384615384615, 'entropy = 0.503\\nsamples = 9\\nvalue = [8, 1]'),\n",
       " Text(0.2909090909090909, 0.5769230769230769, 'X[5] <= 1.5\\nentropy = 0.933\\nsamples = 43\\nvalue = [15, 28]'),\n",
       " Text(0.2727272727272727, 0.5, 'X[3] <= 2.5\\nentropy = 0.85\\nsamples = 29\\nvalue = [8, 21]'),\n",
       " Text(0.2636363636363636, 0.4230769230769231, 'X[2] <= 1.5\\nentropy = 0.946\\nsamples = 22\\nvalue = [8, 14]'),\n",
       " Text(0.2545454545454545, 0.34615384615384615, 'entropy = 0.985\\nsamples = 7\\nvalue = [4, 3]'),\n",
       " Text(0.2727272727272727, 0.34615384615384615, 'X[10] <= 0.5\\nentropy = 0.837\\nsamples = 15\\nvalue = [4, 11]'),\n",
       " Text(0.2636363636363636, 0.2692307692307692, 'entropy = 0.811\\nsamples = 8\\nvalue = [2, 6]'),\n",
       " Text(0.2818181818181818, 0.2692307692307692, 'entropy = 0.863\\nsamples = 7\\nvalue = [2, 5]'),\n",
       " Text(0.2818181818181818, 0.4230769230769231, 'entropy = 0.0\\nsamples = 7\\nvalue = [0, 7]'),\n",
       " Text(0.3090909090909091, 0.5, 'X[4] <= 2.5\\nentropy = 1.0\\nsamples = 14\\nvalue = [7, 7]'),\n",
       " Text(0.3, 0.4230769230769231, 'entropy = 0.985\\nsamples = 7\\nvalue = [4, 3]'),\n",
       " Text(0.3181818181818182, 0.4230769230769231, 'entropy = 0.985\\nsamples = 7\\nvalue = [3, 4]'),\n",
       " Text(0.37727272727272726, 0.6538461538461539, 'X[6] <= 16.5\\nentropy = 0.902\\nsamples = 85\\nvalue = [58, 27]'),\n",
       " Text(0.35454545454545455, 0.5769230769230769, 'X[3] <= 2.5\\nentropy = 1.0\\nsamples = 30\\nvalue = [15, 15]'),\n",
       " Text(0.34545454545454546, 0.5, 'X[2] <= 3.5\\nentropy = 0.977\\nsamples = 17\\nvalue = [10, 7]'),\n",
       " Text(0.33636363636363636, 0.4230769230769231, 'entropy = 0.985\\nsamples = 7\\nvalue = [4, 3]'),\n",
       " Text(0.35454545454545455, 0.4230769230769231, 'entropy = 0.971\\nsamples = 10\\nvalue = [6, 4]'),\n",
       " Text(0.36363636363636365, 0.5, 'entropy = 0.961\\nsamples = 13\\nvalue = [5, 8]'),\n",
       " Text(0.4, 0.5769230769230769, 'X[7] <= 0.5\\nentropy = 0.757\\nsamples = 55\\nvalue = [43, 12]'),\n",
       " Text(0.38181818181818183, 0.5, 'X[4] <= 1.5\\nentropy = 0.868\\nsamples = 38\\nvalue = [27, 11]'),\n",
       " Text(0.37272727272727274, 0.4230769230769231, 'entropy = 0.954\\nsamples = 8\\nvalue = [5, 3]'),\n",
       " Text(0.39090909090909093, 0.4230769230769231, 'X[6] <= 17.5\\nentropy = 0.837\\nsamples = 30\\nvalue = [22, 8]'),\n",
       " Text(0.38181818181818183, 0.34615384615384615, 'X[3] <= 2.5\\nentropy = 0.918\\nsamples = 15\\nvalue = [10, 5]'),\n",
       " Text(0.37272727272727274, 0.2692307692307692, 'entropy = 0.811\\nsamples = 8\\nvalue = [6, 2]'),\n",
       " Text(0.39090909090909093, 0.2692307692307692, 'entropy = 0.985\\nsamples = 7\\nvalue = [4, 3]'),\n",
       " Text(0.4, 0.34615384615384615, 'entropy = 0.722\\nsamples = 15\\nvalue = [12, 3]'),\n",
       " Text(0.41818181818181815, 0.5, 'X[2] <= 3.5\\nentropy = 0.323\\nsamples = 17\\nvalue = [16, 1]'),\n",
       " Text(0.4090909090909091, 0.4230769230769231, 'entropy = 0.0\\nsamples = 9\\nvalue = [9, 0]'),\n",
       " Text(0.42727272727272725, 0.4230769230769231, 'entropy = 0.544\\nsamples = 8\\nvalue = [7, 1]'),\n",
       " Text(0.5159090909090909, 0.7307692307692307, 'X[2] <= 2.5\\nentropy = 0.977\\nsamples = 117\\nvalue = [48, 69]'),\n",
       " Text(0.4863636363636364, 0.6538461538461539, 'X[5] <= 1.5\\nentropy = 0.949\\nsamples = 98\\nvalue = [36, 62]'),\n",
       " Text(0.45454545454545453, 0.5769230769230769, 'X[1] <= 0.5\\nentropy = 0.982\\nsamples = 64\\nvalue = [27, 37]'),\n",
       " Text(0.44545454545454544, 0.5, 'entropy = 0.592\\nsamples = 7\\nvalue = [1, 6]'),\n",
       " Text(0.4636363636363636, 0.5, 'X[4] <= 1.5\\nentropy = 0.994\\nsamples = 57\\nvalue = [26, 31]'),\n",
       " Text(0.44545454545454544, 0.4230769230769231, 'X[2] <= 1.5\\nentropy = 0.773\\nsamples = 22\\nvalue = [5, 17]'),\n",
       " Text(0.43636363636363634, 0.34615384615384615, 'entropy = 0.918\\nsamples = 9\\nvalue = [3, 6]'),\n",
       " Text(0.45454545454545453, 0.34615384615384615, 'entropy = 0.619\\nsamples = 13\\nvalue = [2, 11]'),\n",
       " Text(0.4818181818181818, 0.4230769230769231, 'X[7] <= 0.5\\nentropy = 0.971\\nsamples = 35\\nvalue = [21, 14]'),\n",
       " Text(0.4727272727272727, 0.34615384615384615, 'X[9] <= 0.5\\nentropy = 0.996\\nsamples = 26\\nvalue = [14, 12]'),\n",
       " Text(0.4636363636363636, 0.2692307692307692, 'X[3] <= 2.5\\nentropy = 0.985\\nsamples = 14\\nvalue = [6, 8]'),\n",
       " Text(0.45454545454545453, 0.19230769230769232, 'entropy = 0.863\\nsamples = 7\\nvalue = [2, 5]'),\n",
       " Text(0.4727272727272727, 0.19230769230769232, 'entropy = 0.985\\nsamples = 7\\nvalue = [4, 3]'),\n",
       " Text(0.4818181818181818, 0.2692307692307692, 'entropy = 0.918\\nsamples = 12\\nvalue = [8, 4]'),\n",
       " Text(0.4909090909090909, 0.34615384615384615, 'entropy = 0.764\\nsamples = 9\\nvalue = [7, 2]'),\n",
       " Text(0.5181818181818182, 0.5769230769230769, 'X[3] <= 2.5\\nentropy = 0.834\\nsamples = 34\\nvalue = [9, 25]'),\n",
       " Text(0.509090909090909, 0.5, 'X[6] <= 16.5\\nentropy = 0.887\\nsamples = 23\\nvalue = [7, 16]'),\n",
       " Text(0.5, 0.4230769230769231, 'entropy = 0.946\\nsamples = 11\\nvalue = [4, 7]'),\n",
       " Text(0.5181818181818182, 0.4230769230769231, 'entropy = 0.811\\nsamples = 12\\nvalue = [3, 9]'),\n",
       " Text(0.5272727272727272, 0.5, 'entropy = 0.684\\nsamples = 11\\nvalue = [2, 9]'),\n",
       " Text(0.5454545454545454, 0.6538461538461539, 'X[6] <= 17.5\\nentropy = 0.949\\nsamples = 19\\nvalue = [12, 7]'),\n",
       " Text(0.5363636363636364, 0.5769230769230769, 'entropy = 0.994\\nsamples = 11\\nvalue = [6, 5]'),\n",
       " Text(0.5545454545454546, 0.5769230769230769, 'entropy = 0.811\\nsamples = 8\\nvalue = [6, 2]'),\n",
       " Text(0.6363636363636364, 0.8076923076923077, 'X[0] <= 2.5\\nentropy = 0.491\\nsamples = 140\\nvalue = [15, 125]'),\n",
       " Text(0.6272727272727273, 0.7307692307692307, 'X[3] <= 2.5\\nentropy = 0.559\\nsamples = 115\\nvalue = [15, 100]'),\n",
       " Text(0.5909090909090909, 0.6538461538461539, 'X[10] <= 0.5\\nentropy = 0.457\\nsamples = 83\\nvalue = [8, 75]'),\n",
       " Text(0.5727272727272728, 0.5769230769230769, 'X[9] <= 0.5\\nentropy = 0.722\\nsamples = 25\\nvalue = [5, 20]'),\n",
       " Text(0.5636363636363636, 0.5, 'X[6] <= 16.5\\nentropy = 0.503\\nsamples = 18\\nvalue = [2, 16]'),\n",
       " Text(0.5545454545454546, 0.4230769230769231, 'entropy = 0.811\\nsamples = 8\\nvalue = [2, 6]'),\n",
       " Text(0.5727272727272728, 0.4230769230769231, 'entropy = 0.0\\nsamples = 10\\nvalue = [0, 10]'),\n",
       " Text(0.5818181818181818, 0.5, 'entropy = 0.985\\nsamples = 7\\nvalue = [3, 4]'),\n",
       " Text(0.6090909090909091, 0.5769230769230769, 'X[2] <= 1.5\\nentropy = 0.294\\nsamples = 58\\nvalue = [3, 55]'),\n",
       " Text(0.6, 0.5, 'entropy = 0.0\\nsamples = 27\\nvalue = [0, 27]'),\n",
       " Text(0.6181818181818182, 0.5, 'X[9] <= 0.5\\nentropy = 0.459\\nsamples = 31\\nvalue = [3, 28]'),\n",
       " Text(0.6090909090909091, 0.4230769230769231, 'X[3] <= 1.5\\nentropy = 0.61\\nsamples = 20\\nvalue = [3, 17]'),\n",
       " Text(0.6, 0.34615384615384615, 'entropy = 0.592\\nsamples = 7\\nvalue = [1, 6]'),\n",
       " Text(0.6181818181818182, 0.34615384615384615, 'entropy = 0.619\\nsamples = 13\\nvalue = [2, 11]'),\n",
       " Text(0.6272727272727273, 0.4230769230769231, 'entropy = 0.0\\nsamples = 11\\nvalue = [0, 11]'),\n",
       " Text(0.6636363636363637, 0.6538461538461539, 'X[5] <= 1.5\\nentropy = 0.758\\nsamples = 32\\nvalue = [7, 25]'),\n",
       " Text(0.6454545454545455, 0.5769230769230769, 'X[6] <= 17.5\\nentropy = 0.954\\nsamples = 16\\nvalue = [6, 10]'),\n",
       " Text(0.6363636363636364, 0.5, 'entropy = 0.764\\nsamples = 9\\nvalue = [2, 7]'),\n",
       " Text(0.6545454545454545, 0.5, 'entropy = 0.985\\nsamples = 7\\nvalue = [4, 3]'),\n",
       " Text(0.6818181818181818, 0.5769230769230769, 'X[5] <= 2.5\\nentropy = 0.337\\nsamples = 16\\nvalue = [1, 15]'),\n",
       " Text(0.6727272727272727, 0.5, 'entropy = 0.0\\nsamples = 7\\nvalue = [0, 7]'),\n",
       " Text(0.6909090909090909, 0.5, 'entropy = 0.503\\nsamples = 9\\nvalue = [1, 8]'),\n",
       " Text(0.6454545454545455, 0.7307692307692307, 'entropy = 0.0\\nsamples = 25\\nvalue = [0, 25]'),\n",
       " Text(0.8545454545454545, 0.8846153846153846, 'X[5] <= 1.5\\nentropy = 0.936\\nsamples = 244\\nvalue = [158, 86]'),\n",
       " Text(0.7931818181818182, 0.8076923076923077, 'X[10] <= 0.5\\nentropy = 0.836\\nsamples = 169\\nvalue = [124, 45]'),\n",
       " Text(0.7840909090909091, 0.7307692307692307, 'entropy = 0.997\\nsamples = 15\\nvalue = [7, 8]'),\n",
       " Text(0.8022727272727272, 0.7307692307692307, 'X[6] <= 16.5\\nentropy = 0.795\\nsamples = 154\\nvalue = [117, 37]'),\n",
       " Text(0.740909090909091, 0.6538461538461539, 'X[2] <= 1.5\\nentropy = 0.689\\nsamples = 87\\nvalue = [71, 16]'),\n",
       " Text(0.7181818181818181, 0.5769230769230769, 'X[6] <= 15.5\\nentropy = 0.426\\nsamples = 23\\nvalue = [21, 2]'),\n",
       " Text(0.7090909090909091, 0.5, 'entropy = 0.0\\nsamples = 11\\nvalue = [11, 0]'),\n",
       " Text(0.7272727272727273, 0.5, 'entropy = 0.65\\nsamples = 12\\nvalue = [10, 2]'),\n",
       " Text(0.7636363636363637, 0.5769230769230769, 'X[6] <= 15.5\\nentropy = 0.758\\nsamples = 64\\nvalue = [50, 14]'),\n",
       " Text(0.7454545454545455, 0.5, 'X[7] <= 0.5\\nentropy = 0.946\\nsamples = 33\\nvalue = [21, 12]'),\n",
       " Text(0.7363636363636363, 0.4230769230769231, 'X[2] <= 2.5\\nentropy = 0.998\\nsamples = 21\\nvalue = [11, 10]'),\n",
       " Text(0.7272727272727273, 0.34615384615384615, 'entropy = 0.946\\nsamples = 11\\nvalue = [7, 4]'),\n",
       " Text(0.7454545454545455, 0.34615384615384615, 'entropy = 0.971\\nsamples = 10\\nvalue = [4, 6]'),\n",
       " Text(0.7545454545454545, 0.4230769230769231, 'entropy = 0.65\\nsamples = 12\\nvalue = [10, 2]'),\n",
       " Text(0.7818181818181819, 0.5, 'X[4] <= 2.5\\nentropy = 0.345\\nsamples = 31\\nvalue = [29, 2]'),\n",
       " Text(0.7727272727272727, 0.4230769230769231, 'entropy = 0.0\\nsamples = 8\\nvalue = [8, 0]'),\n",
       " Text(0.7909090909090909, 0.4230769230769231, 'X[7] <= 0.5\\nentropy = 0.426\\nsamples = 23\\nvalue = [21, 2]'),\n",
       " Text(0.7818181818181819, 0.34615384615384615, 'X[4] <= 3.5\\nentropy = 0.337\\nsamples = 16\\nvalue = [15, 1]'),\n",
       " Text(0.7727272727272727, 0.2692307692307692, 'entropy = 0.592\\nsamples = 7\\nvalue = [6, 1]'),\n",
       " Text(0.7909090909090909, 0.2692307692307692, 'entropy = 0.0\\nsamples = 9\\nvalue = [9, 0]'),\n",
       " Text(0.8, 0.34615384615384615, 'entropy = 0.592\\nsamples = 7\\nvalue = [6, 1]'),\n",
       " Text(0.8636363636363636, 0.6538461538461539, 'X[8] <= 0.5\\nentropy = 0.897\\nsamples = 67\\nvalue = [46, 21]'),\n",
       " Text(0.8545454545454545, 0.5769230769230769, 'X[2] <= 2.5\\nentropy = 0.877\\nsamples = 54\\nvalue = [38, 16]'),\n",
       " Text(0.8363636363636363, 0.5, 'X[7] <= 0.5\\nentropy = 0.963\\nsamples = 31\\nvalue = [19, 12]'),\n",
       " Text(0.8272727272727273, 0.4230769230769231, 'X[6] <= 17.5\\nentropy = 0.918\\nsamples = 21\\nvalue = [14, 7]'),\n",
       " Text(0.8181818181818182, 0.34615384615384615, 'entropy = 0.592\\nsamples = 7\\nvalue = [6, 1]'),\n",
       " Text(0.8363636363636363, 0.34615384615384615, 'entropy = 0.985\\nsamples = 14\\nvalue = [8, 6]'),\n",
       " Text(0.8454545454545455, 0.4230769230769231, 'entropy = 1.0\\nsamples = 10\\nvalue = [5, 5]'),\n",
       " Text(0.8727272727272727, 0.5, 'X[7] <= 0.5\\nentropy = 0.667\\nsamples = 23\\nvalue = [19, 4]'),\n",
       " Text(0.8636363636363636, 0.4230769230769231, 'entropy = 0.764\\nsamples = 9\\nvalue = [7, 2]'),\n",
       " Text(0.8818181818181818, 0.4230769230769231, 'entropy = 0.592\\nsamples = 14\\nvalue = [12, 2]'),\n",
       " Text(0.8727272727272727, 0.5769230769230769, 'entropy = 0.961\\nsamples = 13\\nvalue = [8, 5]'),\n",
       " Text(0.9159090909090909, 0.8076923076923077, 'X[4] <= 3.5\\nentropy = 0.994\\nsamples = 75\\nvalue = [34, 41]'),\n",
       " Text(0.8909090909090909, 0.7307692307692307, 'X[2] <= 1.5\\nentropy = 0.845\\nsamples = 22\\nvalue = [6, 16]'),\n",
       " Text(0.8818181818181818, 0.6538461538461539, 'entropy = 0.0\\nsamples = 7\\nvalue = [0, 7]'),\n",
       " Text(0.9, 0.6538461538461539, 'entropy = 0.971\\nsamples = 15\\nvalue = [6, 9]'),\n",
       " Text(0.9409090909090909, 0.7307692307692307, 'X[2] <= 1.5\\nentropy = 0.998\\nsamples = 53\\nvalue = [28, 25]'),\n",
       " Text(0.9181818181818182, 0.6538461538461539, 'X[6] <= 16.5\\nentropy = 0.991\\nsamples = 18\\nvalue = [8, 10]'),\n",
       " Text(0.9090909090909091, 0.5769230769230769, 'entropy = 0.991\\nsamples = 9\\nvalue = [4, 5]'),\n",
       " Text(0.9272727272727272, 0.5769230769230769, 'entropy = 0.991\\nsamples = 9\\nvalue = [4, 5]'),\n",
       " Text(0.9636363636363636, 0.6538461538461539, 'X[5] <= 2.5\\nentropy = 0.985\\nsamples = 35\\nvalue = [20, 15]'),\n",
       " Text(0.9454545454545454, 0.5769230769230769, 'X[6] <= 17.5\\nentropy = 0.9\\nsamples = 19\\nvalue = [13, 6]'),\n",
       " Text(0.9363636363636364, 0.5, 'entropy = 0.764\\nsamples = 9\\nvalue = [7, 2]'),\n",
       " Text(0.9545454545454546, 0.5, 'entropy = 0.971\\nsamples = 10\\nvalue = [6, 4]'),\n",
       " Text(0.9818181818181818, 0.5769230769230769, 'X[6] <= 16.5\\nentropy = 0.989\\nsamples = 16\\nvalue = [7, 9]'),\n",
       " Text(0.9727272727272728, 0.5, 'entropy = 0.991\\nsamples = 9\\nvalue = [4, 5]'),\n",
       " Text(0.990909090909091, 0.5, 'entropy = 0.985\\nsamples = 7\\nvalue = [3, 4]')]"
      ]
     },
     "execution_count": 29,
     "metadata": {},
     "output_type": "execute_result"
    },
    {
     "data": {
      "image/png": "[encoded data removed]",
      "text/plain": [
       "<Figure size 640x480 with 1 Axes>"
      ]
     },
     "metadata": {},
     "output_type": "display_data"
    }
   ],
   "source": [
    "#takes a few seconds and hard to see but just for sanity check\n",
    "tree.plot_tree(tree_cv.best_estimator_)"
   ]
  },
  {
   "cell_type": "markdown",
   "metadata": {},
   "source": [
    "## Evaluation"
   ]
  },
  {
   "cell_type": "markdown",
   "metadata": {},
   "source": [
    "### Training results"
   ]
  },
  {
   "cell_type": "code",
   "execution_count": 30,
   "metadata": {},
   "outputs": [
    {
     "name": "stdout",
     "output_type": "stream",
     "text": [
      "Best Decision Tree Parameters: {'criterion': 'entropy', 'max_depth': None, 'max_features': 7, 'min_samples_leaf': 7}\n",
      "Best score is 0.6633820998278829\n"
     ]
    }
   ],
   "source": [
    "print(\"Best Decision Tree Parameters: {}\".format(tree_cv.best_params_))\n",
    "print(\"Best score is {}\".format(tree_cv.best_score_))"
   ]
  },
  {
   "cell_type": "code",
   "execution_count": 31,
   "metadata": {},
   "outputs": [
    {
     "data": {
      "text/plain": [
       "{'mean_fit_time': array([0.0023736 , 0.00216804, 0.00168316, 0.00223577, 0.00162463,\n",
       "        0.00214052, 0.00160637, 0.001441  , 0.00232534, 0.00205715]),\n",
       " 'std_fit_time': array([0.00409092, 0.00266875, 0.00187148, 0.00306246, 0.00335187,\n",
       "        0.00208862, 0.00215306, 0.00039502, 0.00168282, 0.00222346]),\n",
       " 'mean_score_time': array([0.00121033, 0.0010807 , 0.00099142, 0.00087941, 0.000102  ,\n",
       "        0.00134404, 0.00146654, 0.00115526, 0.00116389, 0.00147736]),\n",
       " 'std_score_time': array([0.00219459, 0.00164439, 0.00248625, 0.00123074, 0.00030599,\n",
       "        0.00194265, 0.00214517, 0.0001845 , 0.00211488, 0.00174285]),\n",
       " 'param_criterion': masked_array(data=['entropy', 'gini', 'gini', 'gini', 'gini', 'gini',\n",
       "                    'entropy', 'gini', 'gini', 'entropy'],\n",
       "              mask=[False, False, False, False, False, False, False, False,\n",
       "                    False, False],\n",
       "        fill_value='?',\n",
       "             dtype=object),\n",
       " 'param_max_depth': masked_array(data=[None, None, None, None, 3, 3, 3, 3, None, None],\n",
       "              mask=[False, False, False, False, False, False, False, False,\n",
       "                    False, False],\n",
       "        fill_value='?',\n",
       "             dtype=object),\n",
       " 'param_max_features': masked_array(data=[5, 10, 2, 1, 5, 7, 2, 2, 6, 7],\n",
       "              mask=[False, False, False, False, False, False, False, False,\n",
       "                    False, False],\n",
       "        fill_value='?',\n",
       "             dtype=object),\n",
       " 'param_min_samples_leaf': masked_array(data=[8, 6, 3, 3, 4, 1, 1, 4, 6, 7],\n",
       "              mask=[False, False, False, False, False, False, False, False,\n",
       "                    False, False],\n",
       "        fill_value='?',\n",
       "             dtype=object),\n",
       " 'params': [{'criterion': 'entropy',\n",
       "   'max_depth': None,\n",
       "   'max_features': 5,\n",
       "   'min_samples_leaf': 8},\n",
       "  {'criterion': 'gini',\n",
       "   'max_depth': None,\n",
       "   'max_features': 10,\n",
       "   'min_samples_leaf': 6},\n",
       "  {'criterion': 'gini',\n",
       "   'max_depth': None,\n",
       "   'max_features': 2,\n",
       "   'min_samples_leaf': 3},\n",
       "  {'criterion': 'gini',\n",
       "   'max_depth': None,\n",
       "   'max_features': 1,\n",
       "   'min_samples_leaf': 3},\n",
       "  {'criterion': 'gini',\n",
       "   'max_depth': 3,\n",
       "   'max_features': 5,\n",
       "   'min_samples_leaf': 4},\n",
       "  {'criterion': 'gini',\n",
       "   'max_depth': 3,\n",
       "   'max_features': 7,\n",
       "   'min_samples_leaf': 1},\n",
       "  {'criterion': 'entropy',\n",
       "   'max_depth': 3,\n",
       "   'max_features': 2,\n",
       "   'min_samples_leaf': 1},\n",
       "  {'criterion': 'gini',\n",
       "   'max_depth': 3,\n",
       "   'max_features': 2,\n",
       "   'min_samples_leaf': 4},\n",
       "  {'criterion': 'gini',\n",
       "   'max_depth': None,\n",
       "   'max_features': 6,\n",
       "   'min_samples_leaf': 6},\n",
       "  {'criterion': 'entropy',\n",
       "   'max_depth': None,\n",
       "   'max_features': 7,\n",
       "   'min_samples_leaf': 7}],\n",
       " 'split0_test_score': array([0.69047619, 0.6547619 , 0.60714286, 0.67857143, 0.69047619,\n",
       "        0.67857143, 0.60714286, 0.64285714, 0.5952381 , 0.67857143]),\n",
       " 'split1_test_score': array([0.71428571, 0.63095238, 0.60714286, 0.54761905, 0.55952381,\n",
       "        0.58333333, 0.66666667, 0.54761905, 0.60714286, 0.69047619]),\n",
       " 'split2_test_score': array([0.66666667, 0.5952381 , 0.61904762, 0.72619048, 0.66666667,\n",
       "        0.66666667, 0.63095238, 0.64285714, 0.67857143, 0.71428571]),\n",
       " 'split3_test_score': array([0.71428571, 0.73809524, 0.64285714, 0.61904762, 0.57142857,\n",
       "        0.61904762, 0.67857143, 0.60714286, 0.6547619 , 0.71428571]),\n",
       " 'split4_test_score': array([0.58333333, 0.64285714, 0.5952381 , 0.60714286, 0.64285714,\n",
       "        0.64285714, 0.64285714, 0.58333333, 0.67857143, 0.5952381 ]),\n",
       " 'split5_test_score': array([0.62650602, 0.6626506 , 0.68674699, 0.63855422, 0.61445783,\n",
       "        0.61445783, 0.57831325, 0.65060241, 0.59036145, 0.6746988 ]),\n",
       " 'split6_test_score': array([0.71084337, 0.72289157, 0.68674699, 0.6746988 , 0.59036145,\n",
       "        0.72289157, 0.6626506 , 0.63855422, 0.65060241, 0.72289157]),\n",
       " 'split7_test_score': array([0.56626506, 0.57831325, 0.53012048, 0.54216867, 0.60240964,\n",
       "        0.54216867, 0.48192771, 0.56626506, 0.5060241 , 0.61445783]),\n",
       " 'split8_test_score': array([0.60240964, 0.4939759 , 0.42168675, 0.57831325, 0.59036145,\n",
       "        0.56626506, 0.60240964, 0.56626506, 0.55421687, 0.55421687]),\n",
       " 'split9_test_score': array([0.62650602, 0.6746988 , 0.6626506 , 0.65060241, 0.6746988 ,\n",
       "        0.6746988 , 0.65060241, 0.63855422, 0.6626506 , 0.6746988 ]),\n",
       " 'mean_test_score': array([0.65015777, 0.63944349, 0.60593804, 0.62629088, 0.62032415,\n",
       "        0.63109581, 0.62020941, 0.60840505, 0.61781411, 0.6633821 ]),\n",
       " 'std_test_score': array([0.05357969, 0.06756294, 0.07591153, 0.05637794, 0.04332621,\n",
       "        0.05366519, 0.05502945, 0.03721443, 0.05454562, 0.05375771]),\n",
       " 'rank_test_score': array([ 2,  3, 10,  5,  6,  4,  7,  9,  8,  1])}"
      ]
     },
     "execution_count": 31,
     "metadata": {},
     "output_type": "execute_result"
    }
   ],
   "source": [
    "tree_cv.cv_results_"
   ]
  },
  {
   "cell_type": "code",
   "execution_count": 32,
   "metadata": {},
   "outputs": [
    {
     "name": "stdout",
     "output_type": "stream",
     "text": [
      "Mean test scores:  [0.65015777 0.63944349 0.60593804 0.62629088 0.62032415 0.63109581\n",
      " 0.62020941 0.60840505 0.61781411 0.6633821 ]\n"
     ]
    }
   ],
   "source": [
    "print(f\"Mean test scores: \", tree_cv.cv_results_[\"mean_test_score\"])"
   ]
  },
  {
   "cell_type": "markdown",
   "metadata": {},
   "source": [
    "#### Test set results"
   ]
  },
  {
   "cell_type": "code",
   "execution_count": 36,
   "metadata": {},
   "outputs": [
    {
     "name": "stdout",
     "output_type": "stream",
     "text": [
      "[0.42857143 0.61904762 0.52380952 0.66666667 0.57142857 0.57142857\n",
      " 0.61904762 0.57142857 0.52380952 0.7       ]\n",
      "Mean test accuracy:  0.5795238095238096\n"
     ]
    }
   ],
   "source": [
    "#cross validation\n",
    "\n",
    "CV_test = cross_val_score(tree_cv, X_test, y_test, cv=10)\n",
    "print(CV_test)\n",
    "print(\"Mean test accuracy: \",np.mean(CV_test))"
   ]
  },
  {
   "cell_type": "code",
   "execution_count": 34,
   "metadata": {},
   "outputs": [
    {
     "name": "stdout",
     "output_type": "stream",
     "text": [
      "Training accuracy:  0.7365269461077845\n",
      "Test accuracy:  0.6220095693779905\n"
     ]
    }
   ],
   "source": [
    "#overall test\n",
    "print(\"Training accuracy: \",tree_cv.score(X_train, y_train))\n",
    "print(\"Test accuracy: \", tree_cv.score(X_test, y_test))"
   ]
  },
  {
   "cell_type": "markdown",
   "metadata": {},
   "source": [
    "## Tree 2"
   ]
  },
  {
   "cell_type": "markdown",
   "metadata": {},
   "source": [
    "TODO"
   ]
  },
  {
   "cell_type": "markdown",
   "metadata": {},
   "source": [
    "## Tree 3"
   ]
  },
  {
   "cell_type": "markdown",
   "metadata": {},
   "source": [
    "TODO"
   ]
  },
  {
   "cell_type": "code",
   "execution_count": null,
   "metadata": {},
   "outputs": [],
   "source": []
  }
 ],
 "metadata": {
  "kernelspec": {
   "display_name": "Python 3.9.13 ('base')",
   "language": "python",
   "name": "python3"
  },
  "language_info": {
   "codemirror_mode": {
    "name": "ipython",
    "version": 3
   },
   "file_extension": ".py",
   "mimetype": "text/x-python",
   "name": "python",
   "nbconvert_exporter": "python",
   "pygments_lexer": "ipython3",
   "version": "3.9.13"
  },
  "vscode": {
   "interpreter": {
    "hash": "07b9bce58800e0c6bedceed095b1f0040fd5a37e90a2446371ba89fcb226324d"
   }
  }
 },
 "nbformat": 4,
 "nbformat_minor": 4
}
